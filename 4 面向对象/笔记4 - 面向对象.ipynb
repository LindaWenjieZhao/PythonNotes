{
 "cells": [
  {
   "cell_type": "markdown",
   "metadata": {},
   "source": [
    "# 面向对象\n",
    "\n",
    "面向对象程序设计（英语：Object-oriented programming，缩写：OOP）是种具有对象概念的程序编程典范，同时也是一种程序开发的抽象方针。它可能包含数据、属性、代码与方法。对象则指的是类的实例。它将对象作为程序的基本单元，将程序和数据封装其中，以提高软件的重用性、灵活性和扩展性，对象里的程序可以访问及经常修改对象相关连的数据。在面向对象程序编程里，计算机程序会被设计成彼此相关的对象[1][2]。\n",
    "\n",
    "面向对象程序设计可以看作一种在程序中包含各种独立而又互相调用的对象的思想，这与传统的思想刚好相反：传统的程序设计主张将程序看作一系列函数的集合，或者直接就是一系列对电脑下达的指令。面向对象程序设计中的每一个对象都应该能够接受数据、处理数据并将数据传达给其它对象，因此它们都可以被看作一个小型的“机器”，即对象。目前已经被证实的是，面向对象程序设计推广了程序的灵活性和可维护性，并且在大型项目设计中广为应用。此外，支持者声称面向对象程序设计要比以往的做法更加便于学习，因为它能够让人们更简单地设计并维护程序，使得程序更加便于分析、设计、理解。反对者在某些领域对此予以否认。"
   ]
  },
  {
   "cell_type": "code",
   "execution_count": 11,
   "metadata": {},
   "outputs": [
    {
     "name": "stdout",
     "output_type": "stream",
     "text": [
      "Sam {'Jane', 'Xiaoming'}\n",
      "Jane {'Sam'}\n",
      "Xiaoming {'Sam'}\n",
      "True\n",
      "True\n",
      "False\n"
     ]
    }
   ],
   "source": [
    "class Student(object):\n",
    "    def __init__(self, name, age, gender, language):\n",
    "        self.name = name\n",
    "        self.age = age\n",
    "        self.gender = gender\n",
    "        self.language = language\n",
    "        self.friends = set()\n",
    "    \n",
    "    def __str__(self):\n",
    "        return self.name\n",
    "    \n",
    "    def isMale(self):\n",
    "        return self.gender == \"Male\"\n",
    "    \n",
    "    def isBilingual(self):\n",
    "        return len(self.language)>1\n",
    "    \n",
    "    def addFriend(self, friend):\n",
    "        self.friends.add(str(friend))\n",
    "        friend.friends.add(str(self))\n",
    "    \n",
    "    def removeFriend(self, friend):\n",
    "        if str(friend) in self.friends:\n",
    "            self.friends.remove(str(friend))\n",
    "            friend.friends.remove(str(self))\n",
    "    \n",
    "    def isFriend(self, friend):\n",
    "        return friend in self.friends\n",
    "        \n",
    "        \n",
    "Sam = Student(\"Sam\", 18, \"Male\", [\"English\"])\n",
    "Jane = Student(\"Jane\", 21, \"Female\", [\"English\",\"French\"])\n",
    "Xiaoming = Student(\"Xiaoming\", 20, \"Male\", [\"English\",\"Chinese\"])\n",
    "\n",
    "Sam.addFriend(Jane)\n",
    "Jane.addFriend(Sam)\n",
    "Sam.addFriend(Xiaoming)\n",
    "\n",
    "Students = [Sam, Jane, Xiaoming]\n",
    "\n",
    "# for s in filter(lambda s: s.isBilingual(), Students):\n",
    "for s in Students:\n",
    "    print(s, s.friends)\n",
    "    \n",
    "print(Jane.isFriend(\"Sam\"))\n",
    "print(Xiaoming.isFriend(\"Sam\"))\n",
    "print(Xiaoming.isFriend(\"Jane\"))\n",
    "\n",
    "Sam.removeFriend(Jane)\n",
    "Jane.removeFriend(Xiaoming)"
   ]
  },
  {
   "cell_type": "code",
   "execution_count": 7,
   "metadata": {},
   "outputs": [
    {
     "name": "stdout",
     "output_type": "stream",
     "text": [
      "Help on method_descriptor:\n",
      "\n",
      "remove(...)\n",
      "    Remove an element from a set; it must be a member.\n",
      "    \n",
      "    If the element is not a member, raise a KeyError.\n",
      "\n",
      "None\n"
     ]
    }
   ],
   "source": [
    "print(help(set.remove))"
   ]
  },
  {
   "cell_type": "markdown",
   "metadata": {},
   "source": []
  },
  {
   "cell_type": "code",
   "execution_count": 3,
   "metadata": {},
   "outputs": [],
   "source": [
    "class fuzzyNumber(object):\n",
    "    def __init__(self, a, b, c):\n",
    "        self.a = a\n",
    "        self.b = b\n",
    "        self.c = c\n",
    "        \n",
    "    def mean(self):\n",
    "        return (self.a+4*self.b+self.c)/6\n",
    "    \n",
    "    def variance(self):\n",
    "        return self.c-self.a\n",
    "    \n",
    "    def belong(self, x):\n",
    "        if x<=self.a or x>=self.c:\n",
    "            return 0\n",
    "        if x< self.b:\n",
    "            return (x-self.a)/(self.b-self.a)\n",
    "        return (self.c-x)/(self.c-self.b)\n",
    "    \n",
    "    def __add__(self, fn):\n",
    "        return fuzzyNumber(self.a+fn.a, self.b+fn.b, self.c+fn.c)\n",
    "        \n",
    "    def __eq__(self, fn):\n",
    "        if self.mean() == fn.mean() and self.variance() == fn.variance():\n",
    "            return True\n",
    "        return False\n",
    "        \n",
    "    def __lt__(self, fn):\n",
    "        if self.mean() < fn.mean():\n",
    "            return True\n",
    "        if self.variance() > fn.variance():\n",
    "            return True\n",
    "        return False  \n",
    "    \n",
    "    def __gt__(self, fn):\n",
    "        if self.mean() > fn.mean():\n",
    "            return True\n",
    "        if self.variance() < fn.variance():\n",
    "            return True\n",
    "        return False       \n",
    "    \n",
    "    def __str__(self):\n",
    "        return str((self.a, self.b, self.c))"
   ]
  },
  {
   "cell_type": "code",
   "execution_count": 16,
   "metadata": {},
   "outputs": [
    {
     "name": "stdout",
     "output_type": "stream",
     "text": [
      "(1, 2, 3) (3, 4, 5) (4, 6, 8)\n",
      "2.0 4.0 6.0\n",
      "True\n",
      "True\n"
     ]
    }
   ],
   "source": [
    "f1 = fuzzyNumber(1,2,3)\n",
    "f2 = fuzzyNumber(3,4,5)\n",
    "f = f1+f2\n",
    "print(f1,f2,f)\n",
    "print(f1.mean(),f2.mean(),f.mean())\n",
    "print(f<f2)\n",
    "print(f>f2)"
   ]
  },
  {
   "cell_type": "markdown",
   "metadata": {},
   "source": []
  },
  {
   "cell_type": "code",
   "execution_count": null,
   "metadata": {},
   "outputs": [],
   "source": [
    "class stack(object):\n",
    "    items = []\n",
    "    \n",
    "    def add(self, item):\n",
    "        \n",
    "    \n",
    "    def pop(self):\n",
    "        \n",
    "    \n",
    "    def length(self):\n",
    "    "
   ]
  },
  {
   "cell_type": "code",
   "execution_count": 28,
   "metadata": {},
   "outputs": [
    {
     "name": "stdout",
     "output_type": "stream",
     "text": [
      "1\n",
      "3\n",
      "4\n",
      "6\n",
      "7\n",
      "8\n",
      "10\n",
      "13\n",
      "14\n",
      "size of BST: 9\n"
     ]
    }
   ],
   "source": [
    "class node(object):\n",
    "    def __init__(self, value):\n",
    "        self.value = value\n",
    "        self.left = None\n",
    "        self.right = None\n",
    "\n",
    "    def add(self, value):\n",
    "        if value < self.value:\n",
    "            if self.left:\n",
    "                self.left.add(value)\n",
    "            else:\n",
    "                self.left = node(value)\n",
    "        else:\n",
    "            if self.right:\n",
    "                self.right.add(value)\n",
    "            else:\n",
    "                self.right = node(value)        \n",
    "    \n",
    "    def sort(self):\n",
    "        if self.left: self.left.sort()\n",
    "        print(self.value)\n",
    "        if self.right: self.right.sort()\n",
    "        \n",
    "class BST(object):\n",
    "    root = None\n",
    "    length = 0\n",
    "    \n",
    "    def add(self, value):\n",
    "        if self.root:\n",
    "            self.root.add(value)\n",
    "        else:\n",
    "            self.root = node(value)\n",
    "        self.length+=1\n",
    "\n",
    "    def sort(self):\n",
    "        self.root.sort()\n",
    "    \n",
    "    def __len__(self):\n",
    "        return self.length\n",
    "            \n",
    "t = BST()\n",
    "for i in [8,3,10,1,6,14,4,7,13]:\n",
    "    t.add(i)\n",
    "t.sort()\n",
    "print(\"size of BST: %d\"%len(t))"
   ]
  },
  {
   "cell_type": "markdown",
   "metadata": {},
   "source": [
    "### 作业："
   ]
  },
  {
   "cell_type": "code",
   "execution_count": 36,
   "metadata": {},
   "outputs": [
    {
     "name": "stdout",
     "output_type": "stream",
     "text": [
      "str(l)=['1', 0, 1.0, 'hello', 233, '123']  str(L)=['1', 0, 1.0, 'hello', 233, '123']\n",
      "len(l)=6  len(L)=6\n",
      "['1', 0, 1.0, 'hello', 233, '123'] ['1', 0, 1.0, 'hello', 233, '123']\n",
      "1 1\n",
      "0 0\n",
      "1.0 1.0\n",
      "hello hello\n",
      "233 233\n",
      "123 123\n"
     ]
    }
   ],
   "source": [
    "class Node(object):\n",
    "    def __init__(self, Value):\n",
    "        self.Value = Value\n",
    "        self.Next = None\n",
    "        self.Prev = None\n",
    "       \n",
    "class LinkedList(object):\n",
    "    head = None\n",
    "    tail = None\n",
    "    length = 0\n",
    "    \n",
    "    def __len__(self):               # len(A)\n",
    "        return self.length\n",
    "        \n",
    "    def __str__(self):               # str(A)\n",
    "        n = self.head\n",
    "        s = ''\n",
    "        while(n):\n",
    "            v = n.Value\n",
    "            if type(v) is str:\n",
    "                s+=\"'\"+str(v)+\"'\"\n",
    "            else:\n",
    "                s+=str(v)\n",
    "            s+=', '\n",
    "            n = n.Next\n",
    "        return \"[%s]\"%s[:-2]\n",
    "            \n",
    "    def append(self, value):         # A.append(value)\n",
    "        n = Node(value)\n",
    "        if self.head:\n",
    "            n.Prev = self.tail\n",
    "            self.tail.Next = n\n",
    "            self.tail = n\n",
    "        else:\n",
    "            self.head = n\n",
    "            self.tail = n\n",
    "        self.length += 1\n",
    "        \n",
    "    def pop(self):                   # A.pop()\n",
    "        n = self.tail\n",
    "        if n is None:\n",
    "            raise IndexError(\"pop from empty list\")\n",
    "        self.tail = n.Prev\n",
    "        if self.tail:\n",
    "            self.tail.Next = None\n",
    "        else:\n",
    "            self.head = None\n",
    "        v = n.Value\n",
    "        del n\n",
    "        self.length -= 1\n",
    "        return v\n",
    "    \n",
    "    def remove(self, value):         # A.remove(value)\n",
    "        node = self.head\n",
    "        while(node):\n",
    "            if (node.Value==value):\n",
    "                p = node.Prev; n = node.Next\n",
    "                if p and n:\n",
    "                    p.Next = n\n",
    "                    n.Prev = p\n",
    "                elif not n:\n",
    "                    self.pop()\n",
    "                elif not p:\n",
    "                    self.head = n\n",
    "                    n.Prev = None\n",
    "                break\n",
    "            else:\n",
    "                node = node.Next\n",
    "    \n",
    "    def __getitem__(self, index):    # A[i]\n",
    "        if index>=self.length or -index>=self.length:\n",
    "            raise IndexError(\"index out of range\")\n",
    "        if index>=0:\n",
    "            i=0; n = self.head\n",
    "            for i in range(index):\n",
    "                n = n.Next\n",
    "        else:\n",
    "            i=0; n = self.tail\n",
    "            for i in range(-index-1):\n",
    "                n = n.Prev           \n",
    "        return n.Value\n",
    "\n",
    "l= LinkedList()\n",
    "L= ['1',0,1.0,\"hello\",233,'123']\n",
    "for i in L:\n",
    "    l.append(i)\n",
    "print(\"str(l)=%s  str(L)=%s\"%(str(l),str(L)))\n",
    "print(\"len(l)=%s  len(L)=%s\"%(len(l),len(L)))\n",
    "print(l,L)\n",
    "\n",
    "for i in range(len(l)):\n",
    "    print(l[i], L[i])"
   ]
  },
  {
   "cell_type": "code",
   "execution_count": null,
   "metadata": {},
   "outputs": [],
   "source": []
  },
  {
   "cell_type": "code",
   "execution_count": null,
   "metadata": {},
   "outputs": [],
   "source": []
  },
  {
   "cell_type": "code",
   "execution_count": null,
   "metadata": {},
   "outputs": [],
   "source": []
  },
  {
   "cell_type": "code",
   "execution_count": null,
   "metadata": {},
   "outputs": [],
   "source": []
  },
  {
   "cell_type": "code",
   "execution_count": null,
   "metadata": {},
   "outputs": [],
   "source": []
  },
  {
   "cell_type": "code",
   "execution_count": null,
   "metadata": {},
   "outputs": [],
   "source": []
  },
  {
   "cell_type": "code",
   "execution_count": null,
   "metadata": {},
   "outputs": [],
   "source": []
  },
  {
   "cell_type": "code",
   "execution_count": null,
   "metadata": {},
   "outputs": [],
   "source": []
  },
  {
   "cell_type": "code",
   "execution_count": null,
   "metadata": {},
   "outputs": [],
   "source": []
  },
  {
   "cell_type": "code",
   "execution_count": null,
   "metadata": {},
   "outputs": [],
   "source": []
  },
  {
   "cell_type": "code",
   "execution_count": null,
   "metadata": {},
   "outputs": [],
   "source": []
  }
 ],
 "metadata": {
  "kernelspec": {
   "display_name": "Python 3",
   "language": "python",
   "name": "python3"
  },
  "language_info": {
   "codemirror_mode": {
    "name": "ipython",
    "version": 3
   },
   "file_extension": ".py",
   "mimetype": "text/x-python",
   "name": "python",
   "nbconvert_exporter": "python",
   "pygments_lexer": "ipython3",
   "version": "3.6.2"
  }
 },
 "nbformat": 4,
 "nbformat_minor": 2
}
