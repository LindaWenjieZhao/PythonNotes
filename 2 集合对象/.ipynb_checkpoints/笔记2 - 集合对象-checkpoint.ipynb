{
 "cells": [
  {
   "cell_type": "markdown",
   "metadata": {},
   "source": [
    "# 笔记2: 集合对象\n",
    "\n",
    "集合是Python的一个很重要的概念，它是由很多基础元素组成的整体，是对基本类型的一种扩展。Python中存在有4种集合对象，分别是列表(List)，元组(Tuple)，集合(Set)，字典(Dictionary)。\n",
    "- List: 可更改、连续整数索引、有序\n",
    "- Tuple: **不可更改**、连续整数索引、有序\n",
    "- Set: 可更改、**连续整数索引**、无序、**不重复**、**常数时间查询**\n",
    "- Dict: 可更改、**按键索引**、无序、键不重复、**常数时间查询**\n",
    "\n",
    "## 列表 List\n",
    "### 知识点1: range与xrange\n",
    "\n",
    "`range(...)`和`xrange(...)`是Python2.7中两种用来执行for循环的方法，但很多人容易忽略这俩者的差别，认为两者一样，但事实上，在执行循环时的效率上完全不同。如下代码我们可以看到，如果我们使用`range(...)`，其运行时间是`xrange(...)`的两倍多。其原因在于`range(...)`会生成一个切实存在的list对象，因此访问list得到目标对象会面临着局部性差的问题，而`xrange(...)`是一个动态生成函数（生成器），它会记录带入的参数，然后每次根据需求生成下一个需要的对象，局部性会更好。那么什么是**局部性**？\n",
    "\n",
    "所有计算都是在CPU中计算的，而CPU的计算数据来源于CPU内的快速访问记忆体——寄存器。CPU访问寄存器的速度非常快，大概在0-1个时钟周期，但寄存器的大小太小了，不足以放下程序计算时的所有数据，这时CPU就要去访问主存，这个过程大概在100-200个时钟周期。这里访问速度的巨大差异驱使人们发明了缓存，缓存中会存储当前被访问的指令、数据以及他们附近的指令、数据，缓存作为一个缓解访问速度差异的手段，其访问速度虽然低于寄存器，但却大大快于主存，大概在10-20个时钟周期。所以我们期望某块内存能够尽可能长时间的被放在缓存中，这样就可以省去访问主存时的时间消耗。由于指令和数据在内存地址上都是顺序排布的，因此希望某块内存尽可能长时间放在缓存中，被缓存的数据、指令彼此间在地址上就会非常近，这个性质称为局部性。事实上，这个设计也确实能很大程度改善主存访问慢的问题，这来源于两个方面：\n",
    "\n",
    "- 时间局部性：由于在**没有跳转**的情况下，指令都是按照**顺序执行**的，因此如果指令$I_n$执行时，$I_n$存储在缓存中，其下一条指令$I_{n+1}$也很有可能在缓存中，这时$I_{n+1}$就可以直接从缓存中读取，并执行。\n",
    "- 空间局部性：如果按照**地址顺序**访问数据，当数据$D_n$在缓存中时，其下一个数据$D_{n+1}$也很可能在缓存中，这时就可以直接从缓存读取$D_{n+1}$进行计算。\n",
    "\n",
    "缓存的大小是有限的，如果超过一定大小，就会产生缓存的容量失效，CPU一定因为超出缓存的部分去访问主存，因此容量非常大的列表在空间局部性上就会比生成器要差很多，因而访问速度也会慢一些。"
   ]
  },
  {
   "cell_type": "code",
   "execution_count": 1,
   "metadata": {},
   "outputs": [
    {
     "name": "stdout",
     "output_type": "stream",
     "text": [
      "finished in 0.092343 sec\n",
      "finished in 0.035155 sec\n"
     ]
    }
   ],
   "source": [
    "# Python2.7\n",
    "from time import clock\n",
    "N = 1000000\n",
    "start = clock()\n",
    "for i in range(N):\n",
    "    pass\n",
    "end = clock()\n",
    "print(\"finished in %f sec\"%(end-start))\n",
    "\n",
    "start = clock()\n",
    "for i in xrange(N):\n",
    "    pass\n",
    "end = clock()\n",
    "print(\"finished in %f sec\"%(end-start))"
   ]
  },
  {
   "cell_type": "markdown",
   "metadata": {},
   "source": [
    "［补充：Python3.5中的`range(...)`］Python3.5中取消了`xrange(...)`，并让`range(...)`替代了它，也就是说Python3.5中的`range(...)`类似于Python2.7中的`xrange(...)`，而Python2.7中的`range(...)`实际上类似于Python3.5中的`list(range(...))`："
   ]
  },
  {
   "cell_type": "code",
   "execution_count": 1,
   "metadata": {},
   "outputs": [
    {
     "name": "stdout",
     "output_type": "stream",
     "text": [
      "finished in 0.096879 sec\n",
      "finished in 0.049673 sec\n"
     ]
    }
   ],
   "source": [
    "# Python3.5\n",
    "from time import clock\n",
    "N = 1000000\n",
    "start = clock()\n",
    "for i in list(range(N)):\n",
    "    pass\n",
    "end = clock()\n",
    "print(\"finished in %f sec\"%(end-start))\n",
    "\n",
    "start = clock()\n",
    "for i in range(N):\n",
    "    pass\n",
    "end = clock()\n",
    "print(\"finished in %f sec\"%(end-start))"
   ]
  },
  {
   "cell_type": "markdown",
   "metadata": {},
   "source": [
    "所以，这也是为什么Python3.5中`range(...)`是没有办法像Python2.7中那样进行list操作的（`pop()`是list的方法，range对象无法调用）："
   ]
  },
  {
   "cell_type": "code",
   "execution_count": 1,
   "metadata": {},
   "outputs": [
    {
     "name": "stdout",
     "output_type": "stream",
     "text": [
      "[0, 1, 2, 3, 4, 5, 6, 7, 8, 9]\n",
      "4\n",
      "last element: 9\n"
     ]
    }
   ],
   "source": [
    "# Python2.7\n",
    "r = range(10)\n",
    "print(r)\n",
    "print(r[4])\n",
    "print(\"last element: %d\"%r.pop())"
   ]
  },
  {
   "cell_type": "code",
   "execution_count": 1,
   "metadata": {},
   "outputs": [
    {
     "name": "stdout",
     "output_type": "stream",
     "text": [
      "range(0, 10)\n",
      "4\n"
     ]
    },
    {
     "ename": "AttributeError",
     "evalue": "'range' object has no attribute 'pop'",
     "output_type": "error",
     "traceback": [
      "\u001b[0;31m---------------------------------------------------------------------------\u001b[0m",
      "\u001b[0;31mAttributeError\u001b[0m                            Traceback (most recent call last)",
      "\u001b[0;32m<ipython-input-1-1b7a61ab6a5a>\u001b[0m in \u001b[0;36m<module>\u001b[0;34m()\u001b[0m\n\u001b[1;32m      3\u001b[0m \u001b[0mprint\u001b[0m\u001b[0;34m(\u001b[0m\u001b[0mr\u001b[0m\u001b[0;34m)\u001b[0m\u001b[0;34m\u001b[0m\u001b[0m\n\u001b[1;32m      4\u001b[0m \u001b[0mprint\u001b[0m\u001b[0;34m(\u001b[0m\u001b[0mr\u001b[0m\u001b[0;34m[\u001b[0m\u001b[0;36m4\u001b[0m\u001b[0;34m]\u001b[0m\u001b[0;34m)\u001b[0m\u001b[0;34m\u001b[0m\u001b[0m\n\u001b[0;32m----> 5\u001b[0;31m \u001b[0mprint\u001b[0m\u001b[0;34m(\u001b[0m\u001b[0;34m\"last element: %d\"\u001b[0m\u001b[0;34m%\u001b[0m\u001b[0mr\u001b[0m\u001b[0;34m.\u001b[0m\u001b[0mpop\u001b[0m\u001b[0;34m(\u001b[0m\u001b[0;34m)\u001b[0m\u001b[0;34m)\u001b[0m\u001b[0;34m\u001b[0m\u001b[0m\n\u001b[0m",
      "\u001b[0;31mAttributeError\u001b[0m: 'range' object has no attribute 'pop'"
     ]
    }
   ],
   "source": [
    "# Python3.5\n",
    "r = range(10)\n",
    "print(r)\n",
    "print(r[4])\n",
    "print(\"last element: %d\"%r.pop())"
   ]
  },
  {
   "cell_type": "markdown",
   "metadata": {},
   "source": [
    "### 知识点2: 浅拷贝和深拷贝\n",
    "\n",
    "赋值是程序的基本操作，我们可以将一个变量赋值给另一个变量实现值的传递，但这个时候，我们需要很清晰的认识，他们究竟传递的是什么？否则在复杂的应用之中我们很可能会被看似正确的代码误导了。比如说以下代码在基本变量类型上可以正常工作，但对于list就会出现奇怪的表现："
   ]
  },
  {
   "cell_type": "code",
   "execution_count": 5,
   "metadata": {},
   "outputs": [
    {
     "name": "stdout",
     "output_type": "stream",
     "text": [
      "a b False\n"
     ]
    }
   ],
   "source": [
    "a = \"a\"\n",
    "b = a\n",
    "b = \"b\"\n",
    "print(a, b, a==b)"
   ]
  },
  {
   "cell_type": "code",
   "execution_count": 8,
   "metadata": {},
   "outputs": [
    {
     "name": "stdout",
     "output_type": "stream",
     "text": [
      "[8, 1, 2, 3, 4] [8, 1, 2, 3, 4] True\n",
      "A stored at 0x111f64f08\n",
      "B stored at 0x111f64f08\n"
     ]
    }
   ],
   "source": [
    "A = list(range(5))\n",
    "B = A # shallow copy\n",
    "B[0] = 8\n",
    "print(A, B, A==B)\n",
    "print(\"A stored at %s\\nB stored at %s\"%(hex(id(A)),hex(id(B))))"
   ]
  },
  {
   "cell_type": "markdown",
   "metadata": {},
   "source": [
    "按照我们的期待，`A`应该仍然保持`[0,1,2,3,4]`，而`B`被改变成`[8,1,2,3,4]`。但实际运行结果却并不如我们所愿。其原因在于对于Python而言，任何非基本类型（int、float、str、bool）都会被视作Python对象（object），而Python对象的实质是一个指向存储在某块内存上的结构体的指针（也就是一个内存地址）。当我们将`A`赋值给`B`时，事实上是让这两个变量**共享了同样一块地址**，于是我们更改`B[0]`时就会同时更改`A[0]`（可以认为`B`这时是`A`的一个**别名**(alias)。），这个现象被称为“浅拷贝”。从上代码我们可以看到赋值后的变量存储于同一个内存地址。这样不难理解为什么以上BUG会出现。\n",
    "\n",
    "解决以上问题，我们需要使用“深拷贝”，也就是在内存上重新分配一块区域，并将被拷贝变量的值写入，再将这块新分配的地址赋值给目标变量。对于list变量来说，可以通过调用`copy()`方法实现深拷贝，而对于其他没有深拷贝方法对象，可以利用Python的`copy`库中的`deepcopy()`实现深拷贝。"
   ]
  },
  {
   "cell_type": "code",
   "execution_count": 7,
   "metadata": {},
   "outputs": [
    {
     "name": "stdout",
     "output_type": "stream",
     "text": [
      "[0, 1, 2, 3, 4] [8, 1, 2, 3, 4] False\n",
      "A stored at 0x111f64588\n",
      "B stored at 0x111f3fa88\n"
     ]
    }
   ],
   "source": [
    "A = list(range(5))\n",
    "B = A.copy() # deep copy\n",
    "B[0] = 8\n",
    "print(A, B, A==B)\n",
    "print(\"A stored at %s\\nB stored at %s\"%(hex(id(A)),hex(id(B))))"
   ]
  },
  {
   "cell_type": "code",
   "execution_count": 13,
   "metadata": {},
   "outputs": [
    {
     "name": "stdout",
     "output_type": "stream",
     "text": [
      "Help on function deepcopy in module copy:\n",
      "\n",
      "deepcopy(x, memo=None, _nil=[])\n",
      "    Deep copy operation on arbitrary Python objects.\n",
      "    \n",
      "    See the module's __doc__ string for more info.\n",
      "\n"
     ]
    }
   ],
   "source": [
    "from copy import deepcopy\n",
    "help(deepcopy)"
   ]
  },
  {
   "cell_type": "markdown",
   "metadata": {},
   "source": [
    "### 知识点3: Map/Reduce/Filter\n",
    "\n",
    "不同于其他语言中的for循环，Python中的for循环更类似于其他语言中的foreach，是对一个集合中所有对象的枚举。如果说枚举的循环变量被应用于循环体中进行操作，这时我们可以认为循环实现了从一个集合到另一个集合或者数的一个对应过程。我们将这一个过程中常用的几个模式选出来做成了以下语法糖：\n",
    "- map: 根据一定规则将一个集合映射到另一个集合；\n",
    "- reduce: 根据一定规则将集合合并；\n",
    "- filter: 根据条件选择集合中满足要求的对象。\n",
    "\n",
    "#### Map\n",
    "`map(...)`是一种按照顺序依次对列表中元素进行转换形成新的列表的函数，比如当我们需要执行以下过程时：\n",
    "```\n",
    "L = []\n",
    "for item in enum:\n",
    "    L.append(func(item))\n",
    "```\n",
    "我们通常就可以使用`map(func, enum)`函数对以上过程实现简化，等价于`[func(item) for item in enum]`。比如我们想生成0-9的平方："
   ]
  },
  {
   "cell_type": "code",
   "execution_count": 15,
   "metadata": {},
   "outputs": [
    {
     "name": "stdout",
     "output_type": "stream",
     "text": [
      "[0, 1, 4, 9, 16, 25, 36, 49, 64, 81]\n",
      "[0, 1, 4, 9, 16, 25, 36, 49, 64, 81]\n",
      "[0, 1, 4, 9, 16, 25, 36, 49, 64, 81]\n",
      "[0, 1, 4, 9, 16, 25, 36, 49, 64, 81]\n"
     ]
    }
   ],
   "source": [
    "def power2(x):\n",
    "    return x**2\n",
    "\n",
    "L = []\n",
    "for i in range(10):\n",
    "    L.append(i**2)\n",
    "print(l)\n",
    "\n",
    "print([i**2 for i in range(10)])\n",
    "\n",
    "print(list(map(power2, list(range(10)))))\n",
    "print(list(map(lambda x: x**2, list(range(10)))))"
   ]
  },
  {
   "cell_type": "markdown",
   "metadata": {},
   "source": [
    "#### Reduce\n",
    "`reduce(...)`是一个按照列表顺序逐一将元素合并的一个功能，逻辑上等价于\n",
    "\n",
    "```\n",
    "r = init\n",
    "for i in range(len(enum)):\n",
    "    r = func(enum[i], r)\n",
    "```\n",
    "\n",
    "该函数是Python2.7的内建函数，但在Python3.5中被移除，如果需要使用，可以利用`functools.reduce()`。\n",
    "\n",
    "比如以下计算1-10的和的代码："
   ]
  },
  {
   "cell_type": "code",
   "execution_count": 2,
   "metadata": {},
   "outputs": [
    {
     "name": "stdout",
     "output_type": "stream",
     "text": [
      "3.6.2 (default, Jul 17 2017, 16:44:47) \n",
      "[GCC 4.2.1 Compatible Apple LLVM 8.0.0 (clang-800.0.42.1)]\n",
      "\n",
      "55\n",
      "55\n"
     ]
    }
   ],
   "source": [
    "from sys import version\n",
    "print(version+'\\n')\n",
    "if version[0] == '2':\n",
    "    # Python2.7 => builtin function\n",
    "    pass\n",
    "else:\n",
    "    # Python3.5 => functools.reduce()\n",
    "    from functools import reduce\n",
    "\n",
    "# in loop \n",
    "s = 0\n",
    "for i in range(1,11):\n",
    "    s = s + i\n",
    "print(s)\n",
    "\n",
    "# reduce\n",
    "print(reduce(lambda x,y: x+y, range(1,11)))"
   ]
  },
  {
   "cell_type": "markdown",
   "metadata": {},
   "source": [
    "#### Filter\n",
    "\n",
    "`filter(...)`是一个根据已知筛选条件从列表中找出满足条件的所有对象的函数。逻辑上等价于\n",
    "```\n",
    "L=[]\n",
    "for item in enum:\n",
    "    if condSatisfied(item):\n",
    "        L.append(item)\n",
    "```        \n",
    "比如寻找2-100中的质数，给定条件是判断质数(`isPrime(...)`)，则如果该函数返回真，则保留；否则移除。"
   ]
  },
  {
   "cell_type": "code",
   "execution_count": 12,
   "metadata": {},
   "outputs": [
    {
     "name": "stdout",
     "output_type": "stream",
     "text": [
      "[2, 3, 5, 7, 11, 13, 17, 19, 23, 29, 31, 37, 41, 43, 47, 53, 59, 61, 67, 71, 73, 79, 83, 89, 97]\n",
      "[2, 3, 5, 7, 11, 13, 17, 19, 23, 29, 31, 37, 41, 43, 47, 53, 59, 61, 67, 71, 73, 79, 83, 89, 97]\n"
     ]
    }
   ],
   "source": [
    "def isPrime(x):\n",
    "    for i in range(2,x):\n",
    "        if not(x%i):\n",
    "            return False\n",
    "    return True\n",
    "\n",
    "L=[]\n",
    "for i in range(2,100):\n",
    "    if isPrime(i):\n",
    "        L.append(i)\n",
    "print(L)\n",
    "\n",
    "print(list(filter(isPrime, list(range(2,100)))))"
   ]
  },
  {
   "cell_type": "markdown",
   "metadata": {},
   "source": [
    "## 元组 Tuple\n",
    "\n",
    "### 知识点1: Pack和Unpack\n",
    "\n",
    "通过括号将元素组合起来的过程称为包装(Pack)，如`[1,2,3]`，而当我们知道集合对象中元素数目时，可以通过拆包(unpack)，实现同步赋值。比如元组`(1,2)`一共有俩元素，通过拆包`a,b=(1,2)`可以同时将1赋值给a，2赋值给b。\n",
    "\n",
    "［补充］当返回多个数据时，Python会将这些数据包装成元组返回。"
   ]
  },
  {
   "cell_type": "code",
   "execution_count": 38,
   "metadata": {},
   "outputs": [
    {
     "name": "stdout",
     "output_type": "stream",
     "text": [
      "<class 'tuple'>\n",
      "1 2\n"
     ]
    }
   ],
   "source": [
    "def func():\n",
    "    return 1,2\n",
    "\n",
    "res = func()\n",
    "print(type(res))\n",
    "\n",
    "a,b = res # unpack\n",
    "print(a,b)"
   ]
  },
  {
   "cell_type": "markdown",
   "metadata": {},
   "source": [
    "利用拆包的同步性质，我们可以很简单的完成交换值(swap)的操作，而无需引入中间变量。这个过程的本质是先建立一个元组`(1,2)`，这时，等式右方的`a,b`是按照右值也就是数据的形式解读，而此时等式左方的`b,a`则是按照左值，也就是内存地址的形式解读，那么`b,a=a,b`的本质就是将当前`a`的值1赋值给`b`，并将`b`的值2赋值给`a`，因为元组是不可改变的集合对象，因此a和b的初始值在计算中得到了保护，而不会像异步操作`a=b;b=a`将初始值覆盖掉。\n",
    "\n",
    "［补充］左值与右值（来源Wikipedia）\n",
    "> Some languages use the idea of l-values and r-values, deriving from the typical mode of evaluation on the left and right hand side of an assignment statement. An lvalue refers to an object that persists beyond a single expression. An rvalue is a temporary value that does not persist beyond the expression that uses it.\n",
    "\n",
    "近似可以理解为，赋值的等式不同于数学中的等式，左边的值用于指代一块**内存**，称为左值，而右边的表达式则用于指代计算的到的**数据**，称为右值。"
   ]
  },
  {
   "cell_type": "code",
   "execution_count": 32,
   "metadata": {},
   "outputs": [
    {
     "name": "stdout",
     "output_type": "stream",
     "text": [
      "2 1\n"
     ]
    }
   ],
   "source": [
    "#swap\n",
    "a=1; b=2\n",
    "b,a = a,b\n",
    "print(a,b)"
   ]
  },
  {
   "cell_type": "markdown",
   "metadata": {},
   "source": [
    "### 知识点2: 不可更改？\n",
    "\n",
    "学习元组时我们都知道，元组的元素是不可以更改的，但这里指的不可以更改究竟指的是什么？比如以下两个案例："
   ]
  },
  {
   "cell_type": "code",
   "execution_count": 3,
   "metadata": {},
   "outputs": [
    {
     "ename": "TypeError",
     "evalue": "'tuple' object does not support item assignment",
     "output_type": "error",
     "traceback": [
      "\u001b[0;31m---------------------------------------------------------------------------\u001b[0m",
      "\u001b[0;31mTypeError\u001b[0m                                 Traceback (most recent call last)",
      "\u001b[0;32m<ipython-input-3-d39e274845b0>\u001b[0m in \u001b[0;36m<module>\u001b[0;34m()\u001b[0m\n\u001b[1;32m      1\u001b[0m \u001b[0mT\u001b[0m\u001b[0;34m=\u001b[0m\u001b[0;34m(\u001b[0m\u001b[0;36m1\u001b[0m\u001b[0;34m,\u001b[0m\u001b[0;36m2\u001b[0m\u001b[0;34m,\u001b[0m\u001b[0;36m3\u001b[0m\u001b[0;34m)\u001b[0m\u001b[0;34m\u001b[0m\u001b[0m\n\u001b[0;32m----> 2\u001b[0;31m \u001b[0mT\u001b[0m\u001b[0;34m[\u001b[0m\u001b[0;36m1\u001b[0m\u001b[0;34m]\u001b[0m \u001b[0;34m=\u001b[0m \u001b[0;36m2\u001b[0m\u001b[0;34m\u001b[0m\u001b[0m\n\u001b[0m\u001b[1;32m      3\u001b[0m \u001b[0mprint\u001b[0m\u001b[0;34m(\u001b[0m\u001b[0mT\u001b[0m\u001b[0;34m)\u001b[0m\u001b[0;34m\u001b[0m\u001b[0m\n",
      "\u001b[0;31mTypeError\u001b[0m: 'tuple' object does not support item assignment"
     ]
    }
   ],
   "source": [
    "T=(1,2,3)\n",
    "T[1] = 2\n",
    "print(T)"
   ]
  },
  {
   "cell_type": "markdown",
   "metadata": {},
   "source": [
    "该代码会报错，提示你元组是不支持**元素赋值**的。但以下代码，我们却可以看到，我们确实“改变”了元组。"
   ]
  },
  {
   "cell_type": "code",
   "execution_count": 35,
   "metadata": {},
   "outputs": [
    {
     "name": "stdout",
     "output_type": "stream",
     "text": [
      "([3, 2], 2)\n"
     ]
    }
   ],
   "source": [
    "T=([1,2],2)\n",
    "T[0][0]=3\n",
    "print(T)"
   ]
  },
  {
   "cell_type": "markdown",
   "metadata": {},
   "source": [
    "其原因在于上文中我们提到的List对象的本质是一个内存地址，因此即便我们看到的元组是`([1,2],3)`但事实上其真正内容是一个地址（该地址上放有list对象`[1,2]`）和一个整数3。因此`T[0][0]=3`更改的是数组地址上的第一个元素的值，但并没有改变数组的存放位置，因此实际上元组并没有被改变。知晓元组不可更改的本质后，我们便可以知道以下代码为什么能／不能运行了。"
   ]
  },
  {
   "cell_type": "code",
   "execution_count": 4,
   "metadata": {},
   "outputs": [
    {
     "ename": "TypeError",
     "evalue": "'tuple' object does not support item assignment",
     "output_type": "error",
     "traceback": [
      "\u001b[0;31m---------------------------------------------------------------------------\u001b[0m",
      "\u001b[0;31mTypeError\u001b[0m                                 Traceback (most recent call last)",
      "\u001b[0;32m<ipython-input-4-f6316dd55e17>\u001b[0m in \u001b[0;36m<module>\u001b[0;34m()\u001b[0m\n\u001b[1;32m      1\u001b[0m \u001b[0mT\u001b[0m\u001b[0;34m=\u001b[0m\u001b[0;34m(\u001b[0m\u001b[0;34m[\u001b[0m\u001b[0;36m1\u001b[0m\u001b[0;34m,\u001b[0m\u001b[0;36m2\u001b[0m\u001b[0;34m]\u001b[0m\u001b[0;34m,\u001b[0m\u001b[0;36m2\u001b[0m\u001b[0;34m)\u001b[0m\u001b[0;34m\u001b[0m\u001b[0m\n\u001b[0;32m----> 2\u001b[0;31m \u001b[0mT\u001b[0m\u001b[0;34m[\u001b[0m\u001b[0;36m0\u001b[0m\u001b[0;34m]\u001b[0m\u001b[0;34m=\u001b[0m\u001b[0;34m[\u001b[0m\u001b[0;36m1\u001b[0m\u001b[0;34m,\u001b[0m\u001b[0;36m2\u001b[0m\u001b[0;34m]\u001b[0m\u001b[0;34m\u001b[0m\u001b[0m\n\u001b[0m\u001b[1;32m      3\u001b[0m \u001b[0mprint\u001b[0m\u001b[0;34m(\u001b[0m\u001b[0mT\u001b[0m\u001b[0;34m)\u001b[0m\u001b[0;34m\u001b[0m\u001b[0m\n",
      "\u001b[0;31mTypeError\u001b[0m: 'tuple' object does not support item assignment"
     ]
    }
   ],
   "source": [
    "T=([1,2],2)\n",
    "T[0]=[1,2]  # assign a new list (address) to T[0]\n",
    "print(T)"
   ]
  },
  {
   "cell_type": "code",
   "execution_count": 5,
   "metadata": {},
   "outputs": [
    {
     "name": "stdout",
     "output_type": "stream",
     "text": [
      "([3, 2], 2)\n"
     ]
    }
   ],
   "source": [
    "A=[1,2]\n",
    "T=(A,2)\n",
    "A[0]=3  # similar to shallow copy\n",
    "print(T)"
   ]
  },
  {
   "cell_type": "markdown",
   "metadata": {},
   "source": [
    "## 集合 Set\n",
    "\n",
    "### 知识点1: 元素不重复\n",
    "\n",
    "Python的集合类似于集合论中的集合，集合中的元素不会重复，因此`set`常被用来去除重复对象。对于一个list或者tuple，如果我们关心的是其中不重复的元素的话，我们就可以使用`set`。比如以下案例，给定一句话，统计不重复的字符有多少种？"
   ]
  },
  {
   "cell_type": "code",
   "execution_count": 2,
   "metadata": {},
   "outputs": [
    {
     "name": "stdout",
     "output_type": "stream",
     "text": [
      "20\n"
     ]
    }
   ],
   "source": [
    "s = \"hello world! This is an example of set.\"\n",
    "print(len(set(s)))"
   ]
  },
  {
   "cell_type": "markdown",
   "metadata": {},
   "source": [
    "### 知识点2: 常数时间查询\n",
    "\n",
    "对于集合对象来说，查询元素是否存在于集合对象之中是一个非常常用的操作，我们可以利用关键字`in`查询集合对象是否包含元素，比如`\"a\" in \"hello\"`就是`False`；`4 in [1,0,2,4]`是`True`。但值得注意的是，不同的集合对象在查询是否包含制定对象时，其查询效率是不一样的。"
   ]
  },
  {
   "cell_type": "code",
   "execution_count": 4,
   "metadata": {},
   "outputs": [
    {
     "name": "stdout",
     "output_type": "stream",
     "text": [
      "0.003467000000000553\n",
      "0.0005709999999936599\n"
     ]
    }
   ],
   "source": [
    "from time import clock\n",
    "\n",
    "N = 10000\n",
    "l = list(range(N))\n",
    "s = set(range(N))\n",
    "\n",
    "start = clock()\n",
    "for i in range(1000):\n",
    "    temp = 100 in l\n",
    "end = clock()\n",
    "\n",
    "print(end-start)\n",
    "\n",
    "start = clock()\n",
    "for i in range(1000):\n",
    "    temp = 100 in s\n",
    "end = clock()\n",
    "\n",
    "print(end-start)"
   ]
  },
  {
   "cell_type": "markdown",
   "metadata": {},
   "source": [
    "#### 实例：2-sum problem\n",
    "上面我们可以看到在使用`in`时，`list`和`set`表现出了很大的性能差异（set比list快了7倍！）。但事实上这个效率比并不算惊奇，在某些实际问题上，利用set实现查询操作的效率会比list更明显。比如2-sum问题，该问题表述如下：\n",
    "\n",
    "> 给定一个列表$L$（假定不重复），试问，在其中满足和为$x+y=N$的无序数对$(x,y):x\\in L,y\\in L$有多少个？\n",
    "\n",
    "比较Naive的解法是构建两个循环分别遍历集合，然后判断和是否是$N$，但这样的话内循环的工作量正比于集合大小$n$，而外循环也是，则完成这项工作需要$O(n^2)$次操作，这个工作量的增长问题会在集合越来越大的时候慢慢凸显。这样做是最好的吗？很显然并不是。因为$N$是一个常数，当我们给定一个数$x$时，只需要查询$y=N-x$是否在集合之中就行，而每次单次查询对`set`来说，是常数时间$O(1)$的，那么整个算法只需要$O(n)$的时间就能完成。线性增长级相较于二次增长级来说就缓和了许多。我们从以下代码就可以看到$O(n^2)$算法和$O(n)$算法在$n$比较大的情况下效率区别到底有多大。"
   ]
  },
  {
   "cell_type": "code",
   "execution_count": 4,
   "metadata": {},
   "outputs": [
    {
     "name": "stdout",
     "output_type": "stream",
     "text": [
      "2 pairs with sum of 3\n",
      "finished in 1.740239 sec\n",
      "2 pairs with sum of 3\n",
      "finished in 0.002296 sec\n",
      "757.9 times faster\n"
     ]
    }
   ],
   "source": [
    "from time import clock\n",
    "N=3\n",
    "l = list(range(10000))\n",
    "s = set(range(10000))\n",
    "\n",
    "n=0\n",
    "start = clock()\n",
    "for x in l:\n",
    "    y = N-x\n",
    "    if y in l: n+=1\n",
    "end = clock()\n",
    "\n",
    "time_list = end-start\n",
    "print(\"%d pairs with sum of %d\"%(int(n/2),N))\n",
    "print(\"finished in %f sec\"%time_list)\n",
    "\n",
    "n=0\n",
    "start = clock()\n",
    "for x in s:\n",
    "    y = N-x\n",
    "    if y in s: n+=1\n",
    "end = clock()\n",
    "\n",
    "time_set = end-start\n",
    "print(\"%d pairs with sum of %d\"%(int(n/2),N))\n",
    "print(\"finished in %f sec\"%time_set)\n",
    "\n",
    "print(\"%.1f times faster\"%(time_list/time_set))"
   ]
  },
  {
   "cell_type": "markdown",
   "metadata": {},
   "source": [
    "［补充：查询时间复杂性］由于list是按照顺序存储的集合对象，因此当查询一个数是否存在于list中时，它会遍历整个list寻找，因此`x in List`的时间是正比于list大小的，也就是线性复杂性$O(n)$。而set是利用哈希形成的散列结构，不同于list，它不会访问一些无关的数据，可以直接访问目标，也就是常数复杂性$O(1)$。\n",
    "\n",
    "那么对于上面同样是一个循环的，同样设计思路的代码，使用list的复杂性是$O(n^2)$，而使用set的复杂性则是$O(n)$。可以看到当数据比较多时，其运行效率的提升可以达到700倍以上！！**所以在我们需要经常查询元素是否存在于集合对象之中时，我们可以优先考虑使用`set`对象**。"
   ]
  },
  {
   "cell_type": "markdown",
   "metadata": {},
   "source": [
    "## 字典 Dict\n",
    "### 知识点1: 键值对\n",
    "\n",
    "不同于以上三种集合对象，dict是一种利用键值对进行查询的集合对象。键值对是一种利用键来查询值的一种数据结构，字典的键需要是**不重复**且**可哈希**的。（见**哈希(Hash)**）当我们拥有一个字典比如`d = {\"a\":1,\"b\":2}`，我们就可以利用`d['b']`查询到b对应的值2。\n",
    "\n",
    "字典常应用于统计和属性的表达，比如`count = {'a':1,'b':2}`，这时不同的键具有相同的意义——“字母”，这样的特征称为“统计”，而`Sam={\"name\":\"Sam\",\"age\":18}`中不同的键则用来表达对象不同的属性，这样的特征被称为“属性”。将这两种使用方法结合起来，我们就可以表示一些更复杂的数据了。比如以下字典：\n",
    "\n",
    "```\n",
    "{\n",
    "    \"Sam\": {\"name\": \"Sam\", \"age\": 18, \"Gender\": \"Male\"},\n",
    "    \"Alan\": {\"name\": \"Alan\", \"age\": 22, \"Gender\": \"Male\"},\n",
    "    \"Jane\": {\"name\": \"Jane\", \"age\": 21, \"Gender\": \"Female\"},\n",
    "}\n",
    "```\n",
    "\n",
    "利用了字典作为字典的值，在第一级字典中，每一个键代表的一个人，而其值代表了对人的描述（统计应用）；在第二级字典中，每一个键代表着描述一个人的某种特征，而值表示着这个特征的取值（属性应用）。这样不断嵌套，我们可以得到一些复杂的数据结构，而这样的表示很类似于C语言中的结构体，我们可以认为字典是一种**结构化**的数据类型。\n",
    "\n",
    "如果对JavaScript或者网络数据交互格式熟悉的话，我们会发现，以上表示和JavaScript的对象写法是一致的，而这种数据的表示方法被称为JSON (JavaScript Object Notation)。如果我们想利用Python的网站服务框架，比如Django，来实现前后端的信息传递，就可以将数据（通常是Python对象）先变成字典，然后将其转换成JSON，通过AJAX的形式发送出去，当前端接收到JSON文本时，就可以通过解析函数得到对应的JavaScript对象了。"
   ]
  },
  {
   "cell_type": "markdown",
   "metadata": {},
   "source": [
    "### 知识点2: 安全索引\n",
    "\n",
    "如果被索引的键不再合法的范围（也就是说键不存在），索引将会"
   ]
  },
  {
   "cell_type": "code",
   "execution_count": 10,
   "metadata": {},
   "outputs": [
    {
     "name": "stdout",
     "output_type": "stream",
     "text": [
      "[('h', 1), ('e', 1), ('l', 3), ('o', 2), (' ', 1), ('w', 1), ('r', 1), ('d', 1)]\n",
      "h: 1\n",
      "e: 1\n",
      "l: 3\n",
      "o: 2\n",
      " : 1\n",
      "w: 1\n",
      "r: 1\n",
      "d: 1\n"
     ]
    }
   ],
   "source": [
    "s = \"hello world\"\n",
    "d = dict()\n",
    "\n",
    "for i in s:\n",
    "    # d.get(i,0) d[i] if exists; else d[i]=0\n",
    "    d[i] = d.get(i,0) + 1\n",
    "\n",
    "for k,v in d.items():\n",
    "    print(\"%s: %d\"%(k,v))"
   ]
  },
  {
   "cell_type": "markdown",
   "metadata": {},
   "source": []
  },
  {
   "cell_type": "code",
   "execution_count": 15,
   "metadata": {},
   "outputs": [
    {
     "name": "stdout",
     "output_type": "stream",
     "text": [
      "{1: 'a', 2: 'b', 3: 'c', 4: 'd'}\n",
      "{1: 'a', 2: 'b', 3: 'c', 4: 'd', 5: 'd'}\n"
     ]
    }
   ],
   "source": [
    "k = [1,2,3,4]\n",
    "v = ['a','b','c','d']\n",
    "d = dict(zip(k,v))\n",
    "print(d)\n",
    "d.update({5:\"c\"})\n",
    "d.update({5:\"d\"})\n",
    "print(d)"
   ]
  },
  {
   "cell_type": "markdown",
   "metadata": {},
   "source": [
    "## 哈希\n",
    "\n",
    "input -> output(digest)"
   ]
  },
  {
   "cell_type": "code",
   "execution_count": null,
   "metadata": {},
   "outputs": [],
   "source": [
    "abcde\n",
    "\n",
    "abc bcd cde\n",
    "\n",
    "abde\n",
    "\n",
    "abd bde"
   ]
  }
 ],
 "metadata": {
  "kernelspec": {
   "display_name": "Python 3",
   "language": "python",
   "name": "python3"
  },
  "language_info": {
   "codemirror_mode": {
    "name": "ipython",
    "version": 3
   },
   "file_extension": ".py",
   "mimetype": "text/x-python",
   "name": "python",
   "nbconvert_exporter": "python",
   "pygments_lexer": "ipython3",
   "version": "3.6.2"
  }
 },
 "nbformat": 4,
 "nbformat_minor": 2
}
