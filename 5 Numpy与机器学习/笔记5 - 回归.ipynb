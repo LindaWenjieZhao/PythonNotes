{
 "cells": [
  {
   "cell_type": "markdown",
   "metadata": {},
   "source": [
    "# Numpy与机器学习"
   ]
  },
  {
   "cell_type": "markdown",
   "metadata": {},
   "source": [
    "## 线性回归\n",
    "\n",
    "$$\\hat y=\\theta^T x$$\n",
    "\n",
    "$\\theta\\in \\mathbb{R}^{n\\times1}$ $x\\in \\mathbb{R}^{n\\times1}$\n",
    "\n",
    "$$Y=X\\theta$$\n",
    "\n",
    "$X\\in \\mathbb{R}^{m\\times n}$\n",
    "\n",
    "### 最小二乘：\n",
    "$\\hat \\theta = \\min_\\theta L(\\theta)=\\min_\\theta \\frac{1}{m}\\sum_{i=1}^m (y^{(i)}-\\theta^Tx^{(i)})^2$\n",
    "\n",
    "正态分布：$y\\sim\\mathcal{N}(\\mu,\\sigma^2)\\rightarrow p(y)=\\frac{1}{\\sqrt{2\\pi}\\sigma}\\exp(-\\frac{(y-\\mu)^2}{2\\sigma^2})$\n",
    "\n",
    "- 测量是正态分布\n",
    "- 每个样本间相互独立\n",
    "\n",
    "$$lh(\\theta;\\mathcal{D})=\\prod_{i=1}^mp(y^{(i)};\\theta,x^{(i)})\\propto\\prod_{i=1}^m \\exp(-\\frac{(y^{(i)}-\\theta^Tx^{(i)})^2}{2\\sigma^2})$$\n",
    "\n",
    "$$\\log lh(\\theta;\\mathcal{D})=-\\sum_{i=1}^m \\frac{(y^{(i)}-\\theta^Tx^{(i)})^2}{2\\sigma^2}\\propto-\\frac{1}{m}\\sum_{i=1}^m (y^{(i)}-\\theta^Tx^{(i)})^2$$\n",
    "\n",
    "### 学习－正规方程\n",
    "$$\\epsilon = Y-X\\theta$$\n",
    "$$L\\propto\\epsilon^T\\epsilon = (Y-X\\theta)^T(Y-X\\theta)= Y^TY - (X\\theta)^TY - Y^T(X\\theta) + (X\\theta)^T(X\\theta)= Y^TY - 2Y^TX\\theta + \\theta^TX^TX\\theta$$\n",
    "\n",
    "$$\\frac{\\partial}{\\partial \\theta}\\epsilon^T\\epsilon= - 2X^TY + 2X^TX\\theta = 0$$\n",
    "$$X^TX\\theta=X^TY$$\n",
    "$$\\theta = (X^TX)^{-1}X^TY = X^+Y$$\n",
    "正规方程（Normal Equation）\n",
    "$X^+=(X^TX)^{-1}X^T$"
   ]
  },
  {
   "cell_type": "code",
   "execution_count": 103,
   "metadata": {},
   "outputs": [
    {
     "name": "stdout",
     "output_type": "stream",
     "text": [
      "4.766391037960545 4.521882512489361\n"
     ]
    },
    {
     "data": {
      "image/png": "[encoded data removed]",
      "text/plain": [
       "<matplotlib.figure.Figure at 0x10bc299b0>"
      ]
     },
     "metadata": {},
     "output_type": "display_data"
    }
   ],
   "source": [
    "import numpy as np\n",
    "from matplotlib import pyplot as plt\n",
    "\n",
    "x = np.linspace(0,10,200)\n",
    "y = 5 * x + 3 + 5*np.random.randn(200)\n",
    "\n",
    "x = x.reshape(-1,1)\n",
    "X = np.matrix(np.insert(x,0,1,axis=1))\n",
    "Y = np.matrix(y.reshape(-1,1))\n",
    "\n",
    "# normal equation\n",
    "theta = (X.T * X).I * X.T * Y\n",
    "b,a = theta\n",
    "a = float(a); b = float(b)\n",
    "print(a,b)\n",
    "plt.scatter(x,y,s=6)\n",
    "plt.plot([0,10],[b,b+10*a])\n",
    "plt.plot([0,10],[3,5*10+3],'g--')\n",
    "plt.show()"
   ]
  },
  {
   "cell_type": "markdown",
   "metadata": {},
   "source": [
    "### 学习－梯度下降\n",
    "\n",
    "$$\\frac{\\partial}{\\partial \\theta}L\\propto \\frac{1}{m}X^T(X\\theta-Y)$$\n",
    "\n",
    "$$\\theta:=\\theta-\\alpha\\frac{\\partial}{\\partial \\theta}L$$\n"
   ]
  },
  {
   "cell_type": "code",
   "execution_count": 91,
   "metadata": {},
   "outputs": [
    {
     "data": {
      "image/png": "[encoded data removed]",
      "text/plain": [
       "<matplotlib.figure.Figure at 0x10c3c0cc0>"
      ]
     },
     "metadata": {},
     "output_type": "display_data"
    },
    {
     "name": "stdout",
     "output_type": "stream",
     "text": [
      "[[ 3.38963176]\n",
      " [ 5.0009445 ]]\n"
     ]
    }
   ],
   "source": [
    "theta = np.matrix(np.zeros((2,1)))\n",
    "# theta = np.matrix([[5],[3]])\n",
    "alpha = 0.01\n",
    "\n",
    "Loss = []\n",
    "for i in range(10000):\n",
    "    L = float((Y-X*theta).T*(Y-X*theta)/200)\n",
    "    Loss.append(L)\n",
    "    grad = X.T*(X*theta-Y)/200\n",
    "    theta = theta - alpha * grad\n",
    "plt.plot(Loss[5000:])\n",
    "plt.show()\n",
    "print(theta)"
   ]
  },
  {
   "cell_type": "code",
   "execution_count": 104,
   "metadata": {},
   "outputs": [
    {
     "name": "stdout",
     "output_type": "stream",
     "text": [
      "[ 4.76639104]\n",
      "4.52188251249\n"
     ]
    }
   ],
   "source": [
    "from sklearn import linear_model\n",
    "reg = linear_model.LinearRegression(copy_X=True, fit_intercept=True)\n",
    "reg.fit(x,y)\n",
    "print(reg.coef_)\n",
    "print(reg.intercept_)"
   ]
  },
  {
   "cell_type": "code",
   "execution_count": null,
   "metadata": {},
   "outputs": [],
   "source": []
  },
  {
   "cell_type": "code",
   "execution_count": null,
   "metadata": {},
   "outputs": [],
   "source": []
  }
 ],
 "metadata": {
  "kernelspec": {
   "display_name": "Python 3",
   "language": "python",
   "name": "python3"
  },
  "language_info": {
   "codemirror_mode": {
    "name": "ipython",
    "version": 3
   },
   "file_extension": ".py",
   "mimetype": "text/x-python",
   "name": "python",
   "nbconvert_exporter": "python",
   "pygments_lexer": "ipython3",
   "version": "3.6.2"
  }
 },
 "nbformat": 4,
 "nbformat_minor": 2
}
