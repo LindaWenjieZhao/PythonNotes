{
 "cells": [
  {
   "cell_type": "markdown",
   "metadata": {},
   "source": [
    "# 笔记1：Python的基础类型深入\n",
    "\n",
    "## 计算机简史\n",
    "程序从计算的角度来看是一种利用数据模拟世界的一种数学手段。最早的计算机（差分机）就是利用差分原理作为机械设计基础用来产生一个指定的数列的机器，其用意即是用来替代人工计算函数表格；但随着计算相关的研究逐步深入，巴别奇决定研究一款通用计算机以实现更复杂的计算目的。限制于当时的机械制造水平和巴别奇机以十进制作为机器的计算基础带来的复杂度，巴别奇最终被英国政府收回资助，抱憾而终。\n",
    "\n",
    "通用计算机的一个转机来自于两个重大事件：一个是自学成才的数学家George Boole在1847年提出只需要三个操作（与 AND，或 OR，否 NOT）就可以完成所有的逻辑功能。而在1854年，作为Queens College 的数学教授，布尔在研究思维的定律的时候扩展完善了布尔代数这个概念。起初这个事件的影响并不算巨大，但随着第二次世界大战的爆发，英德双方为了赢得情报上的胜利，开发了一系列复杂的加密和破译机器，其中最有名的就是德国人的Enigma机和英国人为了破解Enigma设计的炸弹机，在这场知名的情报斗争中，有一位天才，叫做图灵，它在1936年提出了图灵机理论，该理论揭示了利用**状态**作为暂时记忆的机器在资源充足的情况下能够模拟人的数学计算和逻辑推理。这个原理而后被应用于Enigma的破解之中，炸弹机的诞生标志着人可以利用计算去解决足够复杂的问题，只要时间、资源足够。（这段经历还被改编成了电影《模仿游戏》）但炸弹机并非通用计算机，战后人们通过重新发掘布尔的成果，发现利用二进制作为计算的基础会比十进制更加简单，而且更为稳定。（二元状态区分度要求低，信号传输更不容易失真）其后，由冯诺伊曼为首的计算机科学家提出了以电路为基础的现代计算机架构，自此我们使用的现代计算机诞生了。\n",
    "\n",
    "## Python基础类型\n",
    "\n",
    "从计算机的简要发展历史中，我们不难看出，计算机的发展一直存在有两个问题，而了解这两个问题也将帮助我们更好理解Python和其他程序设计语言。其一是计算机用来做什么事？其二是计算机怎么做这些事？我们一开始讲到，程序是用数据模拟世界的一种数学手段，从这个解释来看，计算机很显然就是用来解决一些模拟现实世界的数学问题（或者更精确的说是可计算问题），而它怎么解决这些问题的则需要我们了解程序的运行原理才能够回答。在开始的时候，我们没有任何复杂的概念作基础的情况下，我们且认为任何程序都是一段对输入到输出的处理过程，这个概念很接近于数学意义上的函数，而这个思考方式也将作为我们在进入面向对象之前的理解基础。而这一部分中，我们会忽略处理的过程，主要着重输入和输出本身，讲解Python的基本数据类型。\n",
    "\n",
    "Python有4种基础的数据类型：整数(int)、浮点数(float)、字符串(str)、布尔(bool)。这4种数据类型分别用来\"近似\"描述离散的数、连续的数、文本以及逻辑。（此处的\"近似\"将在后文加以解释）而这些最基础类型不断的组合，则会形成更多更复杂的数据类型和数据结构，我们接下来会慢慢讨论。在这里我们必须要明确，为什么我们需要数据类型？从两个方面看，对计算机外部，**不同数据类型是用于描述外部对象不同的特性**，比如去超市买东西，买了多少个就可以用整数表示，而其价格则可以用浮点数表示，其名称可以用字符串表示，是否促销则可以用布尔表示。而对计算机内部，**不同数据类型定义了数据不同的存储方法**，这点我们会简要的在接下来的部分中介绍。了解这两个理解的基础，我们就可以知道，在写程序时不但需要了解用什么变量去描述对象特征，还要了解不同数据类型在计算上的表现。前者但凡写过程序，有一定数学思考的能力，一般都不会存在问题。然而后者由于多数人并未有足够的计算机系统基础，对于一些问题的出现尚未能有足够的理解，以至于对于某些BUG，没有足够能力发现，或者发现了也不知道是怎么产生的。这一个笔记就是用来详细介绍Python类型与各类型的计算特性。"
   ]
  },
  {
   "cell_type": "code",
   "execution_count": 1,
   "metadata": {},
   "outputs": [
    {
     "name": "stdout",
     "output_type": "stream",
     "text": [
      "<class 'int'>\n",
      "<class 'float'>\n",
      "<class 'str'>\n",
      "<class 'bool'>\n"
     ]
    }
   ],
   "source": [
    "# Basic Types\n",
    "print(type(1))       # discrete\n",
    "print(type(1.0))     # continuous\n",
    "print(type(\"hello\")) # text\n",
    "print(type(True))    # logical"
   ]
  },
  {
   "cell_type": "markdown",
   "metadata": {},
   "source": [
    "［**补充**：其他对象如何表示？］计算机利用数字来表达各种事物，那么除开数字，我们常见的一些对象是如何被计算机表达的？比如音频文件，一个连续的声波会通过采样变成一系列离散的数值，然后这些数值以一维数组的形式被存储于计算机内存中，待到用户播放时，计算机读取这块内存，翻译成对应的振幅值，加给扬声器相应电压产生对应的声音。比如图像，会被采样形成若干像素点形成的矩阵，而颜色则可以由红绿蓝通道的3个0-255的整数表示，从而一张图像就会被转换成一个长$\\times$宽$\\times$通道数（一般是3色通道或者单色通道，也就是灰度）的多维数组。此处只是一个引子，更多其他对象会在后面介绍。"
   ]
  },
  {
   "cell_type": "markdown",
   "metadata": {},
   "source": [
    "## 整数\n",
    "\n",
    "### 误区1: 整数除法\n",
    "\n",
    "当前市面上流行的Python版本有两种：Python2.7和Python3.5。虽然多数情况下他们的使用是差不多的，但在某些细节上，两者还是有细微差别的，比如说对于整数除法，Python2.7默认整数除整数的结果仍然是整数，而Python3.5的结果则默认是浮点数。于是`1/2`在Python2.7中会得到0，而在Python3.5中则会得到0.5。由于这样的差别，某些在Python2.7环境下安全的代码在Python3.5环境下就会引发错误，比如以下片段，我们在执行**并归排序**时，通过整数除法将一个数组分成两个近似等长的小数组，就可能会遇到以上问题。"
   ]
  },
  {
   "cell_type": "code",
   "execution_count": 1,
   "metadata": {},
   "outputs": [
    {
     "name": "stdout",
     "output_type": "stream",
     "text": [
      "([0, 1, 2, 3], [4, 5, 6, 7])\n"
     ]
    }
   ],
   "source": [
    "# Python2.7\n",
    "A = range(8)\n",
    "A1= A[:8/2] # first half\n",
    "A2= A[8/2:] # second half\n",
    "print(A1, A2)"
   ]
  },
  {
   "cell_type": "code",
   "execution_count": 3,
   "metadata": {},
   "outputs": [
    {
     "ename": "TypeError",
     "evalue": "slice indices must be integers or None or have an __index__ method",
     "output_type": "error",
     "traceback": [
      "\u001b[0;31m---------------------------------------------------------------------------\u001b[0m",
      "\u001b[0;31mTypeError\u001b[0m                                 Traceback (most recent call last)",
      "\u001b[0;32m<ipython-input-3-decbdacd912f>\u001b[0m in \u001b[0;36m<module>\u001b[0;34m()\u001b[0m\n\u001b[1;32m      1\u001b[0m \u001b[0;31m# env: Python3.5\u001b[0m\u001b[0;34m\u001b[0m\u001b[0;34m\u001b[0m\u001b[0m\n\u001b[1;32m      2\u001b[0m \u001b[0mA\u001b[0m \u001b[0;34m=\u001b[0m \u001b[0mrange\u001b[0m\u001b[0;34m(\u001b[0m\u001b[0;36m8\u001b[0m\u001b[0;34m)\u001b[0m\u001b[0;34m\u001b[0m\u001b[0m\n\u001b[0;32m----> 3\u001b[0;31m \u001b[0mA1\u001b[0m\u001b[0;34m=\u001b[0m \u001b[0mA\u001b[0m\u001b[0;34m[\u001b[0m\u001b[0;34m:\u001b[0m\u001b[0;36m8\u001b[0m\u001b[0;34m/\u001b[0m\u001b[0;36m2\u001b[0m\u001b[0;34m]\u001b[0m \u001b[0;31m# first half\u001b[0m\u001b[0;34m\u001b[0m\u001b[0m\n\u001b[0m\u001b[1;32m      4\u001b[0m \u001b[0mA2\u001b[0m\u001b[0;34m=\u001b[0m \u001b[0mA\u001b[0m\u001b[0;34m[\u001b[0m\u001b[0;36m8\u001b[0m\u001b[0;34m/\u001b[0m\u001b[0;36m2\u001b[0m\u001b[0;34m:\u001b[0m\u001b[0;34m]\u001b[0m \u001b[0;31m# second half\u001b[0m\u001b[0;34m\u001b[0m\u001b[0m\n\u001b[1;32m      5\u001b[0m \u001b[0mprint\u001b[0m\u001b[0;34m(\u001b[0m\u001b[0mA1\u001b[0m\u001b[0;34m,\u001b[0m \u001b[0mA2\u001b[0m\u001b[0;34m)\u001b[0m\u001b[0;34m\u001b[0m\u001b[0m\n",
      "\u001b[0;31mTypeError\u001b[0m: slice indices must be integers or None or have an __index__ method"
     ]
    }
   ],
   "source": [
    "# Python3.5\n",
    "A = range(8)\n",
    "A1= A[:8/2] # first half\n",
    "A2= A[8/2:] # second half\n",
    "print(A1, A2)"
   ]
  },
  {
   "cell_type": "markdown",
   "metadata": {},
   "source": [
    "我们可以看到同样的代码在不同环境下，表现是不一样的，这个原因也来自于以上提到的整数除法的默认处理方式：在Python2.7中，`8/2`得到的结果是4，可以被用来进行索引数组，而在Python3.5中，得到的结果是4.，是一个浮点数，是无法被用来索引数组（详细原因在数组中解释），因此。会引发错误\"TypeError: slice indices must be integers or None or have an index method\"。为了让以上代码运行，Python3.5中应当将整数除法结果转为整数`int(8/2)`。"
   ]
  },
  {
   "cell_type": "markdown",
   "metadata": {},
   "source": [
    "### 误区2: 整数溢出\n",
    "\n",
    "一般计算机会用32位(int)或者64位(long)表示一定范围内的整数，如果超过这个范围，将会产生溢出，导致数值错误，好在Python原生环境中，我们并不需要担心这个问题，它提供了特殊的边界保护，使得计算中溢出的整数依然能够正确的表示。比如说，64位整数最大能表示$2^{63}-1$，超过这个数，就会产生溢出。但我们可以在Python中安全的运行如下语句："
   ]
  },
  {
   "cell_type": "code",
   "execution_count": 4,
   "metadata": {},
   "outputs": [
    {
     "name": "stdout",
     "output_type": "stream",
     "text": [
      "179769313486231590772930519078902473361797697894230657273430081157732675805500963132708477322407536021120113879871393357658789768814416622492847430639474124377767893424865485276302219601246094119453082952085005768838150682342462881473913110540827237163350510684586298239947245938479716304835356329624224137216\n"
     ]
    }
   ],
   "source": [
    "print(2**1024)"
   ]
  },
  {
   "cell_type": "markdown",
   "metadata": {},
   "source": [
    "很明显$2^{1024}$是远大于传统意义上整数类型的表达范围的，但在Python中却可以被正确表达，这种特性可以让使用者对于整数运算放心很多，但事实上，由于多数Python的数值计算并不是由原生Python完成的，而更多是由Numpy完成的。在Numpy中，数据会按照更传统意义的方式进行存储（有符号／无符号，存储位数），而Numpy中的整数，会像其他语言一样会产生溢出，因此需要格外注意。Numpy在创建Array时默认会以int64，也就是64位有符号整数储存，一般情况下，由于int64的范围足够大，我们很少会遇到溢出的情况。但对于某些情况下，我们就会遇到出乎意料的溢出问题。\n",
    "\n",
    "比如在计算机视觉的应用中，Python的PIL(Pillow)库读入的图片会默认以uint8也就是8位无符号整数进行储存，uint8的范围是0-255，这时如果我们对图片进行某些操作时，比如线性对比度拉大，$I = I \\times k$，每个像素点的值乘以某个整数，这时就有可能产生溢出问题。以下代码片段将用来说明以上问题："
   ]
  },
  {
   "cell_type": "code",
   "execution_count": 3,
   "metadata": {},
   "outputs": [
    {
     "name": "stdout",
     "output_type": "stream",
     "text": [
      "[  0  40  80 120 160 200 240  24  64 104]\n"
     ]
    }
   ],
   "source": [
    "import numpy as np\n",
    "pixel = np.arange(0,40,4, dtype=np.uint8) # uint8 (0-255)\n",
    "print(pixel*10)                           # uint8"
   ]
  },
  {
   "cell_type": "markdown",
   "metadata": {},
   "source": [
    "为什么会发生以上问题呢？由于**无符号数**表达为$U = \\sum_{i=1}^N2^{i-1}\\times u_i$，比如$5=4+1=1\\times2^2+0\\times2^1+1\\times2^0=101_2$，其余位填满0，就是5在内存上的表达方式，比如5以uint8存储时即是`0000 0101`。这时我们可以发现如果用$N$位来表示一个无符号数，这个数最大只能取到$2^{N}-1$，对于uint8也就是255。那么256呢？根据上面的介绍，我们知道255的uint8表达为`1111 1111`，那么256则是`10000 0000`可是uint8最多只有8位，那么多余的位都会被舍去，于是256在内存上实际的表达是`0000 0000`也就是0，这个现象被称为“溢出”。\n",
    "\n",
    "我们可以认为我们想要表达的数字$n$和实际存储的数字$u$之间存在着求余的关系，$u=n\\mod2^N$。以上代码，从数值大小上等价于以下代码，但值得注意的是，虽然运行结果一样，但上述的`pixel`中存储的是uint8整数，而下面代码中却存储的是int64整数，前者无符号，占用1个字节（8位），后者有符号，占用8个字节（64位），实际上运行结果是不一样的。这一点一定要谨记。"
   ]
  },
  {
   "cell_type": "code",
   "execution_count": 4,
   "metadata": {},
   "outputs": [
    {
     "name": "stdout",
     "output_type": "stream",
     "text": [
      "[  0  40  80 120 160 200 240  24  64 104]\n"
     ]
    }
   ],
   "source": [
    "pixel = np.arange(0,40,4)  # int64\n",
    "print(pixel*10 % (2**8))   # int64"
   ]
  },
  {
   "cell_type": "markdown",
   "metadata": {},
   "source": [
    "以上介绍了无符号数，它只能取非负的值，但实际上，我们会有很大可能性遇见负数，这时，就需要有符号数了。同样，Python原生整数不区分有符号和无符号以及存储位数，它有提供很好的保护。但在Numpy中我们就有必要对有符号数进行深入了解了。表达有符号数最简单的思路是利用最高位表示符号，剩余的位表示绝对值大小，即$S = (-1)^{s_N}\\sum_{i=1}^{N-1}2^{i-1}\\times s_i$。这时，我们会发现，5在该表示法下是`0000 0101`，-5在该表示法下是`1000 0101`，则5+(-5)在加法机的执行过后会变成`1000 1010`，也就是-10！可是我们期待的结果是0，这就说明我们需要另外一套电路用于计算减法，这很显然会增加计算机的复杂度。最好的就是设计套表示法，能够使得减法同样能用加法机进行计算，解决方法就是普遍采用的**二的补足法(Two's complement)** $T = (-1)^{t_N}\\times2^{N-1}+\\sum_{i=1}^{N-1}2^{i-1}\\times t_i$，其也可以这样表示：一个数的负数等于该数取反后加一，即`-x=~x+1`。（操作符`~`用来表示对数据进行位取反，比如`5`表示为`0000 0101`取`~5`则是`1111 1010`，也就是`-6`）在该规则下，-5应该被表示为`1111 1011`，这时我们计算`-5+5`结果将是0，满足我们的期待。\n",
    "\n",
    "二的补足法能帮助很大程度上减少计算机设计上的复杂度，因此被广泛采用，但这样的表示法同样会给人产生一些让人困惑的BUG。比如以下代码："
   ]
  },
  {
   "cell_type": "code",
   "execution_count": 5,
   "metadata": {},
   "outputs": [
    {
     "name": "stdout",
     "output_type": "stream",
     "text": [
      "[   0 -128]\n"
     ]
    }
   ],
   "source": [
    "import numpy as np\n",
    "A = np.arange(256,dtype=np.int8)\n",
    "print(A[np.where(A==-A)])"
   ]
  },
  {
   "cell_type": "markdown",
   "metadata": {},
   "source": [
    "以上代码，就用来找寻int8范围内负数等于自身的数，即$x=-x$。如果我们从数学意义上说，$x$只可能是0，然而以上代码却找出另一个也满足的值-128。为什么会出现这样的情况？\n",
    "\n",
    "根据二的补足法，-128的二进制表达为`1000 0000`，取反后为127（`0111 1111`），加一后得到-128(`1000 0000`)，所以-(-128)=-128。也就是这个原因，以上代码会找出两个满足要求的数0和-128。这个案例再一次说明了一个问题：**整型数据不是整数；数学上成立的表达，在计算上不一定成立；计算上成立的表达，数学上不一定有意义。**所以我们需要对这些基本数据类型有深入的了解才能避免不合理的计算结果。"
   ]
  },
  {
   "cell_type": "markdown",
   "metadata": {},
   "source": [
    "［**补充**：原生Python整数为何不会溢出？］事实上，Python整数的底层C实现依然会产生溢出，为了防止Python实现中的溢出问题，Python将一个整数的每64位作为一个块（C中的`struct block`），里面存一个指针`struct block*`和一个C语言中的长整数`long`，每个块会通过指针指向下一个块，这样一个大于常规整数表达上限的数就可以通过链表进行表达，低位块中如果产生溢出，就会进位到高位块中，这样，就可以避免溢出问题了。\n",
    "\n",
    "以下代码用来显示大整数和小整数的类型差别：在Python2.7中，我们可以明显看到对于很大的整数，Python会给它一个`long`的类型（本质是链表，而非C中的`long`），而在Python3.5中，这个区别被取消了，所有整数均被称为`int`。"
   ]
  },
  {
   "cell_type": "code",
   "execution_count": 1,
   "metadata": {},
   "outputs": [
    {
     "name": "stdout",
     "output_type": "stream",
     "text": [
      "<type 'int'>\n",
      "<type 'long'>\n"
     ]
    }
   ],
   "source": [
    "# Python2.7\n",
    "print(type(2**3))\n",
    "print(type(2**1024))"
   ]
  },
  {
   "cell_type": "code",
   "execution_count": 11,
   "metadata": {},
   "outputs": [
    {
     "name": "stdout",
     "output_type": "stream",
     "text": [
      "<class 'int'>\n",
      "<class 'int'>\n"
     ]
    }
   ],
   "source": [
    "# Python3.5\n",
    "print(type(2**3))\n",
    "print(type(2**1024))"
   ]
  },
  {
   "cell_type": "markdown",
   "metadata": {},
   "source": [
    "## 浮点数\n",
    "\n",
    "### 误区1: 浮点数比较\n",
    "\n",
    "浮点数是用来表示连续变量的一个数据类型，和整数一样浮点数也可以做基本的数学运算，比如四则运算和比较，但由于计算机的存储是有限的，有些时候，计算的结果可能就会和我们期待的结果有一定的差别。为了解释这个问题，我们可以拿十进制中的数字做为案例，十进制中`1/3`是无限循环小数，如果此时存储位数有限，比如我们只能存储小数点后4位，这时`1/3`就会被表示成`0.3333`，那么`(1/3)*3`实际计算时就是`0.3333*3=0.9999`，结果并不是我们期待的1。这样的问题同样会发生在二进制，而且由于人更熟悉十进制，当类似问题发生在二进制上时，这个BUG会更加的难以发现。比如以下代码："
   ]
  },
  {
   "cell_type": "code",
   "execution_count": 3,
   "metadata": {},
   "outputs": [
    {
     "name": "stdout",
     "output_type": "stream",
     "text": [
      "(1.+2.)==3. is True\n",
      "(0.25+0.5)==0.75 is True\n",
      "(0.2+0.1)==0.3 is False\n"
     ]
    }
   ],
   "source": [
    "print(\"(1.+2.)==3. is \"+str((1.+2.)==3.))\n",
    "print(\"(0.25+0.5)==0.75 is \"+str((0.25+0.5)==0.75))\n",
    "print(\"(0.2+0.1)==0.3 is \"+str((0.2+0.1)==0.3))"
   ]
  },
  {
   "cell_type": "markdown",
   "metadata": {},
   "source": [
    "前两行代码应该很好理解，数学上成立且计算上合理，但第三行就显得尤为怪异，按道理数学上成立的等式却在计算上不成立。其原因和上文中的十进制的案例是一个道理。因为0.1的二进制表达是`0.000[1100]...`，而0.2的二进制表达则是`0.00[1100]...`，其数学上的结果0.3的二进制表达是`0.0[1001]...`，均为无限循环小数，如果现在我们只能存储10位小数，则0.1会被近似表达成`0.0001100110`，而0.2会近似表达成`0.0011001100`，那么两者的和的二进制表达则是`0.0100010010`，而0.3的近似表达为`0.0100110011`，两者实际并不相等。因此，0.1+0.2=0.3在计算上不成立。如果有心的话你会发现，在IEEE浮点数规范的表示方法下，0.1+0.2事实上是大于0.3的。于是当我们运行以下代码时，你就不会惊讶于为什么结果不会输出0.3。 "
   ]
  },
  {
   "cell_type": "code",
   "execution_count": 8,
   "metadata": {},
   "outputs": [
    {
     "name": "stdout",
     "output_type": "stream",
     "text": [
      "0.0\n",
      "0.1\n",
      "0.2\n"
     ]
    }
   ],
   "source": [
    "x=0.0\n",
    "while(x<=0.3):\n",
    "    print(x)\n",
    "    x+=0.1\n",
    "# print(x)"
   ]
  },
  {
   "cell_type": "markdown",
   "metadata": {},
   "source": [
    "以上的案例说明了浮点数在计算中会存在“四舍五入”的近似表达，这也是为什么在诸如C、Java、FORTRAN等语言中不会用float作为循环变量，如：\n",
    "```\n",
    "for (float i=0.0; i<0.7; i=i+0.1){\n",
    "    //loop body\n",
    "}\n",
    "```\n",
    "而建议使用整数作为循环变量：\n",
    "```\n",
    "for (int i=0; i<7; i++){\n",
    "    //loop body\n",
    "}\n",
    "```\n",
    "参考链接：http://www.exploringbinary.com/why-0-point-1-does-not-exist-in-floating-point/"
   ]
  },
  {
   "cell_type": "markdown",
   "metadata": {},
   "source": [
    "### 误区2: 浮点数运算顺序\n",
    "\n",
    "从上面的部分我们知道浮点数在运算时会出现类似十进制中“四舍五入”的现象，从而产生一定的误差，导致数学上成立的表达，在计算上不成立。这一部分，我们将更深入的理解IEEE浮点数规范，以及这个表达方式带来的“麻烦”。在十进制中，对于很大的数，我们会采用科学计数法进行表达，比如15213就会表示成$1.5213\\times10^4$，同样的理念被应用到了IEEE浮点数规范中，根据该规范，浮点数被表示为$(-1)^sM\\times2^E$的形式。该规范我们不会深入讲解，在此仅给出一个简要的理解：IEEE浮点数规范会将数轴按照指数的形式进行划分，每个区间都会被等距离分成若干份，然后任何实数都会被近似表达成离他最近的浮点数，比如我们可以把数轴分成 $[0,1),[1,2),[2,4),[4,8)...$，然后比如每个区间等距离分成4份就可以得到浮点数实际能够表达的数 $[0,\\frac{1}{4},\\frac{1}{2},\\frac{3}{4}]$, $[1,\\frac{5}{4},\\frac{3}{2},\\frac{7}{4}]$, $[2,\\frac{5}{2},3,\\frac{7}{2}]$, $[4,5,6,7]...$，比如1/3在该浮点数编码中就不存在，而它实际会被近似表示成离他最近的浮点数1/4，而3是存在的浮点数，因此3的浮点数表达依旧是3，那么如果我们利用这个浮点数表达的话，`(1/3)*3`实际上是按照`(1/4)*3`进行计算的，因而最后的结果是3/4而不是1。理解了以上过程后，以下代码就不难理解了："
   ]
  },
  {
   "cell_type": "code",
   "execution_count": 1,
   "metadata": {},
   "outputs": [
    {
     "name": "stdout",
     "output_type": "stream",
     "text": [
      "1.0\n",
      "0.9999999999999999\n"
     ]
    }
   ],
   "source": [
    "print((1/3)*3.)\n",
    "print((1/1e30)*1e30)"
   ]
  },
  {
   "cell_type": "markdown",
   "metadata": {},
   "source": [
    "从以上介绍中我们可以看到，由于“四舍五入”，浮点数的运算会出现一些的偏差，尤其是对于数值比较大的浮点数来说，由于区间是按指数划分的，因此大的浮点数所在的区间会更宽，但同时每个区间又是均匀划分，这时，小数所在的区间中能实际表达的数就会比大数所在区间更稠密，换言之，小数的表达会比大数的表达更精确。那么，为了更精确的计算，我们就必须注意浮点数的计算顺序以及参与计算的浮点数量级。比如以下两个案例："
   ]
  },
  {
   "cell_type": "code",
   "execution_count": 2,
   "metadata": {},
   "outputs": [
    {
     "name": "stdout",
     "output_type": "stream",
     "text": [
      "0.0\n",
      "0.1\n"
     ]
    }
   ],
   "source": [
    "print(1e30+0.1-1e30)\n",
    "print(1e30-1e30+0.1)"
   ]
  },
  {
   "cell_type": "markdown",
   "metadata": {},
   "source": [
    "由于加减是同样优先级，因此会从左到右计算：`1e30+0.1-1e30`会先计算`1e30+0.1`，这时由于第一项远大于第二项，计算结果会舍去小数也就是`1e30`，然后会计算`1e30-1e30`得到结果`0.0`；`1e30-1e30+0.1`会先计算`1e30-1e30`，得到`0.0`，然后会计算`0.0+0.1`得到结果`0.1`。从中我们可以看到，数学意义相同的两个表达式，因为计算顺序的不同而产生了不同的运算结果。足以证明浮点数的近似会给计算带来很大的影响。"
   ]
  },
  {
   "cell_type": "code",
   "execution_count": 7,
   "metadata": {},
   "outputs": [
    {
     "name": "stdout",
     "output_type": "stream",
     "text": [
      "20.000000000000004\n",
      "20.0\n"
     ]
    }
   ],
   "source": [
    "print((1/1e29)*2e30)\n",
    "print((1*2)*1e1)"
   ]
  },
  {
   "cell_type": "markdown",
   "metadata": {},
   "source": [
    "同样的，量级也会给计算的精确性带来很大影响，在一些物理模型中，有些时候，某些物理量会非常大，而另一些物理量会非常小，这时当我们进行乘法运算时，大数就会被近似表达，从而失去一些精度。对于计算精度要求较高的程序，我们可以先将乘法中的量级先合并，这样算出来的结果会更精确，如第二句所示。\n",
    "\n",
    "参考材料：https://en.wikipedia.org/wiki/Single-precision_floating-point_format"
   ]
  },
  {
   "cell_type": "markdown",
   "metadata": {},
   "source": [
    "### 误区3: 下溢出（underflow）\n",
    "\n",
    "下溢出和溢出类似，当我们将很多个小于1的数不断乘起来，最终一定会得到非常小的数，从而被近似为0，这个现象被称为下溢出。但有时，这个非常小的数会被用来计算，如果我们忽略浮点数的这个性质，就会产生下溢出的BUG。比如在朴素贝叶斯的文本分类的应用中，比如垃圾邮件分类，给定标签$P(Y)$和每个词的产生概率$P(X_i|Y)$，则一个文本的产生概率就可以用\n",
    "$$P(Y|X)\\propto P(X,Y) = P(Y)\\prod_{i=1}^N P(X_i|Y)$$\n",
    "这时，归一化$P(X,Y)$就可以得到$P(Y|X)$。但此时值得注意的是，由于计算$P(X,Y)$的过程可能会产生下溢出，最后可能得到0，从而无法归一化。如下代码所示："
   ]
  },
  {
   "cell_type": "code",
   "execution_count": 30,
   "metadata": {},
   "outputs": [
    {
     "ename": "ZeroDivisionError",
     "evalue": "float division by zero",
     "output_type": "error",
     "traceback": [
      "\u001b[0;31m---------------------------------------------------------------------------\u001b[0m",
      "\u001b[0;31mZeroDivisionError\u001b[0m                         Traceback (most recent call last)",
      "\u001b[0;32m<ipython-input-30-2997fd0dcea4>\u001b[0m in \u001b[0;36m<module>\u001b[0;34m()\u001b[0m\n\u001b[1;32m      6\u001b[0m \u001b[0;34m\u001b[0m\u001b[0m\n\u001b[1;32m      7\u001b[0m \u001b[0;31m# normalize distribution\u001b[0m\u001b[0;34m\u001b[0m\u001b[0;34m\u001b[0m\u001b[0m\n\u001b[0;32m----> 8\u001b[0;31m \u001b[0mprint\u001b[0m\u001b[0;34m(\u001b[0m\u001b[0mp1\u001b[0m\u001b[0;34m/\u001b[0m\u001b[0;34m(\u001b[0m\u001b[0mp1\u001b[0m\u001b[0;34m+\u001b[0m\u001b[0mp2\u001b[0m\u001b[0;34m)\u001b[0m\u001b[0;34m)\u001b[0m\u001b[0;34m\u001b[0m\u001b[0m\n\u001b[0m",
      "\u001b[0;31mZeroDivisionError\u001b[0m: float division by zero"
     ]
    }
   ],
   "source": [
    "p1 = 1; p2 = 1\n",
    "\n",
    "for i in range(1000):\n",
    "    p1 = p1 * 0.1\n",
    "    p2 = p2 * 0.1\n",
    "    \n",
    "# normalize distribution\n",
    "print(p1/(p1+p2))"
   ]
  },
  {
   "cell_type": "markdown",
   "metadata": {},
   "source": [
    "可以看到如果忽略下溢出，以上代码会触发`ZeroDivisionError`错误，这个错误的原因来自于p1和p2在连乘过程中因为下溢出均被近似为0，而在归一化的过程中，我们就会去计算`0/(0+0)`，从而触发错误。解决这个错误，我们可以利用对数$\\prod p_i = \\exp(\\sum \\log(p_i))$的性质避免下溢出。如下示："
   ]
  },
  {
   "cell_type": "code",
   "execution_count": 31,
   "metadata": {},
   "outputs": [
    {
     "name": "stdout",
     "output_type": "stream",
     "text": [
      "0.5\n"
     ]
    }
   ],
   "source": [
    "from math import exp, log\n",
    "lp1 = 0; lp2 = 0\n",
    "\n",
    "for i in range(1000):\n",
    "    lp1 = lp1 + log(0.1)\n",
    "    lp2 = lp2 + log(0.1)\n",
    "    \n",
    "# normalize distribution\n",
    "print(1/(1+exp(lp2-lp1)))"
   ]
  },
  {
   "cell_type": "markdown",
   "metadata": {},
   "source": [
    "## 字符串\n",
    "\n",
    "### 知识点1: 字符数组与编码\n",
    "\n",
    "字符串是由字符组成的数组，其中的每个字符都由一个若干长度的整数进行编码，最常见的编码是ASCII编码，该编码下每个字符都只用占用1个字节（8位），也就是说每一个ASCII字符都是用一个uint8进行表达的，比如说H的ASCII码就是72。（Python中的`ord(...)`就可以帮助我们将字符转换成对应ASCII码）ASCII对键盘上的有效输入进行了编码，包括拉丁字母，数字，英文符号，回车，换行等。这样一个字符串在内存上看就是一个整数数组，比如下面例子中，`\"Hello World\"`在内存上的表达就是`[72, 101, 108, 108, 111, 32, 87, 111, 114, 108, 100]`，每个数占用1个字节，11个字符占用11个字节，因此如果一个txt文件中只含有`Hello World`的话，该文件大小为11字节。\n",
    "\n",
    "虽然ASCII可以满足计算机对英文文本的使用，但这样的话，其他语言使用者在使用计算机时就会遇到语言困难，为了解决这个问题，人们制定了UNICODE编码规则，其中最广泛应用的编码就是UTF-8编码，这是一种8位宽度变长度编码方法。在这个编码规则中，英文会被用1个字节进行编码，也就是对应于前面的ASCII码，希腊语，法语，德语等语言的字符会被用2个字节编码，而常用中文、日语、韩语（CJK）将会被3个字节编码，某些罕见字符会被用4个字节编码。根据这种编码方法，我们知道，如果有一个文本文件，里面包含`你好世界`4个汉字的话，该文件将会占用4$\\times$3=12字节。"
   ]
  },
  {
   "cell_type": "code",
   "execution_count": 4,
   "metadata": {},
   "outputs": [
    {
     "name": "stdout",
     "output_type": "stream",
     "text": [
      "[72, 101, 108, 108, 111, 32, 87, 111, 114, 108, 100]\n"
     ]
    }
   ],
   "source": [
    "# str to ascii\n",
    "print(list(map(lambda c: ord(c), \"Hello World\")))"
   ]
  },
  {
   "cell_type": "code",
   "execution_count": 2,
   "metadata": {},
   "outputs": [
    {
     "name": "stdout",
     "output_type": "stream",
     "text": [
      "Hello World\n"
     ]
    }
   ],
   "source": [
    "# ascii to str\n",
    "print(''.join(list(map(lambda a: chr(a), [72, 101, 108, 108, 111, 32, 87, 111, 114, 108, 100]))))"
   ]
  },
  {
   "cell_type": "markdown",
   "metadata": {},
   "source": [
    "### 知识点2: 字符串的比较\n",
    "\n",
    "从上面介绍我们可以知道，字符在内存上是由一个整数表示的，那么两个字符就可以利用整数比较的方法相互比较：编码大的字符大于编码小的字符，比如`\"a\"<\"b\"`，因为ASCII编码下，`\"a\"`是97，而`\"b\"`是98，`97<98`所以`\"a\"<\"b\"`，再比如`\"A\"<\"a\"`，因为ASCII编码下`\"A\"`是65，`65<97`所以`\"A\"<\"a\"`。基于这个原则，两个字符串将会**按照从左到右的顺序，逐个就进行比较，直到得到结果**。"
   ]
  },
  {
   "cell_type": "code",
   "execution_count": 19,
   "metadata": {},
   "outputs": [
    {
     "name": "stdout",
     "output_type": "stream",
     "text": [
      "True\n",
      "False\n",
      "True\n"
     ]
    }
   ],
   "source": [
    "print(\"abc\">\"aba\")\n",
    "print(\"abc\">\"ac\")\n",
    "print(\"abc\">\"ab\")"
   ]
  },
  {
   "cell_type": "markdown",
   "metadata": {},
   "source": [
    "但是如果两个字符串的长度不一样怎么办？比如上面的最后一句话，Python是如何比较的。这时就需要讲一个我们看不到的字符了，该字符表示成`\"\\0\"`，被称为NULL，其ASCII编码为0，被用于表示**一个字符串的结束**。于是上面在比较第三个字符时，其实是在比较`\"c\"(99)`和`\"\\0\"(0)`，很显然`99>0`，于是可以得到`\"abc\">\"ab\"`。"
   ]
  },
  {
   "cell_type": "markdown",
   "metadata": {},
   "source": [
    "［**补充：**`dir`函数］当我们对于一个对象的使用不确定时可以通过`dir(...)`函数来显示这个对象能调用的所有函数。其中这些函数会分成三种类型：\n",
    "* 特殊函数：命名格式为`__SPECIAL_FUNC__`，函数前后会有**两个下划线**用以标识，内建函数可以利用语法糖进行更简单的表达（见语法糖）；\n",
    "* 私有函数：命名格式为`_PRIVATE_FUNC`，函数前会有**一个下划线**用以标识，私有函数无法调用；\n",
    "* 公有函数：一般命名规则，公有函数可以用`obj.func()`的方式进行调用。"
   ]
  },
  {
   "cell_type": "code",
   "execution_count": 7,
   "metadata": {},
   "outputs": [
    {
     "name": "stdout",
     "output_type": "stream",
     "text": [
      "['__add__', '__class__', '__contains__', '__delattr__', '__dir__', '__doc__', '__eq__', '__format__', '__ge__', '__getattribute__', '__getitem__', '__getnewargs__', '__gt__', '__hash__', '__init__', '__init_subclass__', '__iter__', '__le__', '__len__', '__lt__', '__mod__', '__mul__', '__ne__', '__new__', '__reduce__', '__reduce_ex__', '__repr__', '__rmod__', '__rmul__', '__setattr__', '__sizeof__', '__str__', '__subclasshook__', 'capitalize', 'casefold', 'center', 'count', 'encode', 'endswith', 'expandtabs', 'find', 'format', 'format_map', 'index', 'isalnum', 'isalpha', 'isdecimal', 'isdigit', 'isidentifier', 'islower', 'isnumeric', 'isprintable', 'isspace', 'istitle', 'isupper', 'join', 'ljust', 'lower', 'lstrip', 'maketrans', 'partition', 'replace', 'rfind', 'rindex', 'rjust', 'rpartition', 'rsplit', 'rstrip', 'split', 'splitlines', 'startswith', 'strip', 'swapcase', 'title', 'translate', 'upper', 'zfill']\n"
     ]
    }
   ],
   "source": [
    "print(dir(str))"
   ]
  },
  {
   "cell_type": "markdown",
   "metadata": {},
   "source": [
    "［**补充：**语法糖］功能相同但表达更为简洁的语法被称为**语法糖（Syntactic Sugar）**。Python的特殊函数就是一种语法糖，如果我们按照标准的对象方法的调用的话，应该写作`obj.__SPECIAL_FUNC__(...)`，但这样的话不是很美观，因此为简化语法，常用的Python操作和内建函数都可以用语法糖的形式进行使用：\n",
    "\n",
    "- 二元运算：包含了四则运算、比较运算、逻辑运算，比如`a.__add__(b)` 等效于 `a+b`；\n",
    "- 数据索引：比如 `A.__getitem__(i)` 等效于 `A[i]`；\n",
    "- 数据切片：比如 `A.__getslice__(i, j)` 等效于 `A[i:j]`；\n",
    "- 内建函数：比如 `a.__len__()` 等效于 `len(a)`、`a.__dir__()` 等效于 `dir(a)`。\n",
    "\n",
    "参考材料：https://docs.python.org/2.0/ref/specialnames.html"
   ]
  },
  {
   "cell_type": "markdown",
   "metadata": {},
   "source": [
    "［补充：`help`函数］当我们不清楚某个函数使用方法时，我们可以利用`help(...)`函数帮助我们更好的了解该函数的使用方法，某些成熟的Python库会提供对函数详细的解释，甚至一些可以利用的案例代码，是一个很好的学习材料。同时因为他是离线的，即便没有网络，我们也可以利用该函数学习我们关心的函数的用法。\n",
    "\n",
    "值得注意的是，如果我们需要开发自己的函数包时，一定要记住在写代码时，对函数进行足够的解释，比如当我们在写函数`sample_func()`时，就可以在`def`的后一行加上我们对这个函数的解释，这样当我们使用`help(sample_func)`时，我们就可以看到我们在开发时留下的注解，方便我们回顾函数的用法和注意事项。\n",
    "```\n",
    "def sample_func(args):\n",
    "    '''\n",
    "    function description is written here.\n",
    "    '''\n",
    "    # function body\n",
    "```"
   ]
  },
  {
   "cell_type": "code",
   "execution_count": 11,
   "metadata": {},
   "outputs": [
    {
     "name": "stdout",
     "output_type": "stream",
     "text": [
      "Help on built-in function len in module builtins:\n",
      "\n",
      "len(obj, /)\n",
      "    Return the number of items in a container.\n",
      "\n"
     ]
    }
   ],
   "source": [
    "help(len)"
   ]
  },
  {
   "cell_type": "markdown",
   "metadata": {},
   "source": [
    "### 知识点3: 格式输出\n"
   ]
  },
  {
   "cell_type": "code",
   "execution_count": 71,
   "metadata": {},
   "outputs": [
    {
     "name": "stdout",
     "output_type": "stream",
     "text": [
      "123|1.230000|123\n",
      "000123|   1.2|  123\n"
     ]
    }
   ],
   "source": [
    "print(\"%d|%f|%s\"%(123,1.23,'123'))\n",
    "print(\"%06d|%6.1f|%5s\"%(123,1.23456789,'123'))"
   ]
  },
  {
   "cell_type": "markdown",
   "metadata": {},
   "source": [
    "### 知识点4: 模式匹配\n"
   ]
  },
  {
   "cell_type": "code",
   "execution_count": 11,
   "metadata": {},
   "outputs": [
    {
     "name": "stdout",
     "output_type": "stream",
     "text": [
      "4122777521\n"
     ]
    }
   ],
   "source": [
    "phone = '(+1)412-277-7521'\n",
    "print(''.join(phone[4:].split('-')))"
   ]
  },
  {
   "cell_type": "code",
   "execution_count": 12,
   "metadata": {},
   "outputs": [
    {
     "name": "stdout",
     "output_type": "stream",
     "text": [
      "[('412', '277', '7521'), ('112', '257', '7321')]\n",
      "['4122777521', '1122577321']\n"
     ]
    }
   ],
   "source": [
    "import re\n",
    "phone = 'phone number: (+1)412-277-7521 and (+1)112-257-7321'\n",
    "res = re.findall('\\(\\+1\\)(\\d{3})-(\\d{3})-(\\d{4})',phone)\n",
    "print(res)\n",
    "# res = re.findall('\\(\\+1\\)\\d{3}-\\d{3}-\\d{4}',phone)\n",
    "print(list(map(lambda l: ''.join(l), res))) # tuple of strings"
   ]
  },
  {
   "cell_type": "markdown",
   "metadata": {},
   "source": [
    "## 布尔\n",
    "布尔型是最简单易懂的数据类型，但事实上，我们需要明确一个问题。**什么是True？**原则上说：\n",
    "1. 不是False的都是True；\n",
    "2. False、0、None、[]、''都是False。\n",
    "\n",
    "第一句看似是一句废话，但加上第二句话后，我们就能对第一句话产生更深入的理解，因为False，0,None,[],''从本质上说都是0，更准确说就是一块全是0的内存。那么由于True不是False，则True是一块不全为0的内存。基于这样的理解，如果我们想找出0-9中3的倍数，我们就可以写出这样几种不同的判断条件。"
   ]
  },
  {
   "cell_type": "code",
   "execution_count": 16,
   "metadata": {},
   "outputs": [
    {
     "name": "stdout",
     "output_type": "stream",
     "text": [
      "0\n",
      "3\n",
      "6\n",
      "9\n"
     ]
    }
   ],
   "source": [
    "for i in range(10):\n",
    "#     if (i%3): continue\n",
    "    if not (i%3): # i%3 != 0\n",
    "        print(i)"
   ]
  },
  {
   "cell_type": "code",
   "execution_count": 18,
   "metadata": {},
   "outputs": [
    {
     "name": "stdout",
     "output_type": "stream",
     "text": [
      "4122777521\n"
     ]
    }
   ],
   "source": [
    "import re\n",
    "phone = 'phone number: (+1)412-277-7521 and (+1)112-257-7321'\n",
    "# phone = 'phone number: None'\n",
    "res = re.findall('\\(\\+1\\)(\\d{3})-(\\d{3})-(\\d{4})',phone)\n",
    "\n",
    "# if len(res)>0:\n",
    "# if len(res):\n",
    "if res:\n",
    "    print(''.join(res[0]))\n",
    "else:\n",
    "    print('not found')"
   ]
  },
  {
   "cell_type": "code",
   "execution_count": null,
   "metadata": {},
   "outputs": [],
   "source": []
  },
  {
   "cell_type": "code",
   "execution_count": null,
   "metadata": {},
   "outputs": [],
   "source": []
  },
  {
   "cell_type": "markdown",
   "metadata": {},
   "source": [
    "## 练习1：凯撒密码\n",
    "\n",
    "凯撒密码又称之为替换加密。在密码学中，恺撒密码（或称恺撒加密、恺撒变换、变换加密）是一种最简单且最广为人知的加密技术。它是一种替换加密的技术，明文中的所有字母都在字母表上向后（或向前）按照一个固定数目进行偏移后被替换成密文。例如，当偏移量是3的时候，所有的字母A将被替换成D，B变成E，以此类推。这个加密方法是以恺撒的名字命名的，当年恺撒曾用此方法与其将军们进行联系。\n",
    "\n",
    "案例（位移量为3）：\n",
    "\n",
    "译码表：\n",
    "- 明文字母表：ABCDEFGHIJKLMNOPQRSTUVWXYZ\n",
    "- 密文字母表：DEFGHIJKLMNOPQRSTUVWXYZABC\n",
    "\n",
    "密码加密：\n",
    "- 明文：THE QUICK BROWN FOX JUMPS OVER THE LAZY DOG\n",
    "- 密文：WKH TXLFN EURZQ IRA MXPSV RYHU WKH ODCB GRJ\n",
    "\n",
    "试编写凯撒密码的加密以及解密程序。\n",
    "\n",
    "［注意事项］\n",
    "- 字母的位移可以通过ASCII码的操作完成，比如`chr(ord(\"a\")+3)=\"d\"`；\n",
    "- 注意特殊字符无需位移，是否是字母可以通过`isalpha()`进行判断。\n",
    "- 大写字母的ASCII范围为65-90，小写字母的ASCII范围为97-122，如果超过了这个范围要通过加减26保证得到的是字母。"
   ]
  },
  {
   "cell_type": "code",
   "execution_count": null,
   "metadata": {},
   "outputs": [],
   "source": []
  }
 ],
 "metadata": {
  "kernelspec": {
   "display_name": "Python 3",
   "language": "python",
   "name": "python3"
  },
  "language_info": {
   "codemirror_mode": {
    "name": "ipython",
    "version": 3
   },
   "file_extension": ".py",
   "mimetype": "text/x-python",
   "name": "python",
   "nbconvert_exporter": "python",
   "pygments_lexer": "ipython3",
   "version": "3.6.2"
  }
 },
 "nbformat": 4,
 "nbformat_minor": 2
}
