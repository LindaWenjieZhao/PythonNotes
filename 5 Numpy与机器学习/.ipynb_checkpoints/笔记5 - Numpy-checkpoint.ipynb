{
 "cells": [
  {
   "cell_type": "markdown",
   "metadata": {},
   "source": [
    "# Numpy\n",
    "\n",
    "## Numpy数据类型"
   ]
  },
  {
   "cell_type": "code",
   "execution_count": 1,
   "metadata": {},
   "outputs": [
    {
     "name": "stdout",
     "output_type": "stream",
     "text": [
      "[[ 4  1]\n",
      " [ 9 16]]\n",
      "[[ 7  6]\n",
      " [18 19]]\n",
      "[[ 7  6]\n",
      " [18 19]]\n"
     ]
    }
   ],
   "source": [
    "import numpy as np\n",
    "\n",
    "A = [[2,1],[3,4]]\n",
    "\n",
    "Arr = np.array(A)\n",
    "print(Arr*Arr)\n",
    "print(Arr.dot(Arr))\n",
    "Mtr = np.matrix(A)\n",
    "print(Mtr*Mtr)"
   ]
  },
  {
   "cell_type": "code",
   "execution_count": 85,
   "metadata": {},
   "outputs": [],
   "source": [
    "#help(np.argmax)"
   ]
  },
  {
   "cell_type": "code",
   "execution_count": 19,
   "metadata": {},
   "outputs": [
    {
     "name": "stdout",
     "output_type": "stream",
     "text": [
      "0\n",
      "3\n"
     ]
    }
   ],
   "source": [
    "# 0001 1\n",
    "# 0010 2\n",
    "# 0000 0 = 1&2\n",
    "# 0011 3 = 1|2\n",
    "print(1&2)\n",
    "print(1|2)"
   ]
  },
  {
   "cell_type": "code",
   "execution_count": 17,
   "metadata": {},
   "outputs": [
    {
     "name": "stdout",
     "output_type": "stream",
     "text": [
      "[False False False False  True  True False  True  True  True  True False]\n",
      "[ True  True  True  True False False  True False False False False  True]\n"
     ]
    }
   ],
   "source": [
    "X = np.array([1,2,3,4,5,6,1,7,8,9,9,0])\n",
    "m = X.mean()\n",
    "X[X<m]=0\n",
    "# print(X>3,'\\n',X<7)\n",
    "print(X>3)\n",
    "print(~(X>3))\n",
    "# print((X>3) & (X<7))\n",
    "# print((X>3) | (X<7))\n",
    "\n",
    "# I = np.where(X==1)\n",
    "# print(X[I])\n",
    "# print(X==1)\n",
    "# print(X[X==1])"
   ]
  },
  {
   "cell_type": "code",
   "execution_count": 28,
   "metadata": {},
   "outputs": [
    {
     "name": "stdout",
     "output_type": "stream",
     "text": [
      "[[ 0  1  2  3  4]\n",
      " [ 5  6  7  8  9]\n",
      " [10 11 12 13 14]]\n",
      "[10 35 60]\n",
      "[[ 0.          0.1         0.2         0.3         0.4       ]\n",
      " [ 0.14285714  0.17142857  0.2         0.22857143  0.25714286]\n",
      " [ 0.16666667  0.18333333  0.2         0.21666667  0.23333333]]\n",
      "[[ 0.          0.05555556  0.0952381   0.125       0.14814815]\n",
      " [ 0.33333333  0.33333333  0.33333333  0.33333333  0.33333333]\n",
      " [ 0.66666667  0.61111111  0.57142857  0.54166667  0.51851852]]\n"
     ]
    }
   ],
   "source": [
    "X = np.arange(15).reshape((3,5))\n",
    "print(X)\n",
    "print(X.sum(axis=1))\n",
    "# broadcast\n",
    "print(X/X.sum(axis=1).reshape(-1,1))\n",
    "print(X/X.sum(axis=0))"
   ]
  },
  {
   "cell_type": "code",
   "execution_count": null,
   "metadata": {},
   "outputs": [],
   "source": []
  }
 ],
 "metadata": {
  "kernelspec": {
   "display_name": "Python 3",
   "language": "python",
   "name": "python3"
  },
  "language_info": {
   "codemirror_mode": {
    "name": "ipython",
    "version": 3
   },
   "file_extension": ".py",
   "mimetype": "text/x-python",
   "name": "python",
   "nbconvert_exporter": "python",
   "pygments_lexer": "ipython3",
   "version": "3.6.2"
  }
 },
 "nbformat": 4,
 "nbformat_minor": 2
}
