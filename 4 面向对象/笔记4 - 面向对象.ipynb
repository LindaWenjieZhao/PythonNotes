{
 "cells": [
  {
   "cell_type": "markdown",
   "metadata": {},
   "source": [
    "# 面向对象"
   ]
  },
  {
   "cell_type": "code",
   "execution_count": 11,
   "metadata": {},
   "outputs": [
    {
     "name": "stdout",
     "output_type": "stream",
     "text": [
      "Sam {'Jane', 'Xiaoming'}\n",
      "Jane {'Sam'}\n",
      "Xiaoming {'Sam'}\n",
      "True\n",
      "True\n",
      "False\n"
     ]
    }
   ],
   "source": [
    "class Student(object):\n",
    "    def __init__(self, name, age, gender, language):\n",
    "        self.name = name\n",
    "        self.age = age\n",
    "        self.gender = gender\n",
    "        self.language = language\n",
    "        self.friends = set()\n",
    "    \n",
    "    def __str__(self):\n",
    "        return self.name\n",
    "#         return str(type(self)) + \" at \" + hex(id(self))\n",
    "    \n",
    "    def isMale(self):\n",
    "        return self.gender == \"Male\"\n",
    "    \n",
    "    def isBilingual(self):\n",
    "        return len(self.language)>1\n",
    "    \n",
    "    def addFriend(self, friend):\n",
    "        self.friends.add(str(friend))\n",
    "        friend.friends.add(str(self))\n",
    "    \n",
    "    def removeFriend(self, friend):\n",
    "        if str(friend) in self.friends:\n",
    "            self.friends.remove(str(friend))\n",
    "            friend.friends.remove(str(self))\n",
    "    \n",
    "    def isFriend(self, friend):\n",
    "        return friend in self.friends\n",
    "        \n",
    "        \n",
    "Sam = Student(\"Sam\", 18, \"Male\", [\"English\"])\n",
    "Jane = Student(\"Jane\", 21, \"Female\", [\"English\",\"French\"])\n",
    "Xiaoming = Student(\"Xiaoming\", 20, \"Male\", [\"English\",\"Chinese\"])\n",
    "\n",
    "Sam.addFriend(Jane)\n",
    "Jane.addFriend(Sam)\n",
    "Sam.addFriend(Xiaoming)\n",
    "\n",
    "Students = [Sam, Jane, Xiaoming]\n",
    "\n",
    "# for s in filter(lambda s: s.isBilingual(), Students):\n",
    "for s in Students:\n",
    "    print(s, s.friends)\n",
    "    \n",
    "print(Jane.isFriend(\"Sam\"))\n",
    "print(Xiaoming.isFriend(\"Sam\"))\n",
    "print(Xiaoming.isFriend(\"Jane\"))\n",
    "\n",
    "Sam.removeFriend(Jane)\n",
    "Jane.removeFriend(Xiaoming)"
   ]
  },
  {
   "cell_type": "code",
   "execution_count": 7,
   "metadata": {},
   "outputs": [
    {
     "name": "stdout",
     "output_type": "stream",
     "text": [
      "Help on method_descriptor:\n",
      "\n",
      "remove(...)\n",
      "    Remove an element from a set; it must be a member.\n",
      "    \n",
      "    If the element is not a member, raise a KeyError.\n",
      "\n",
      "None\n"
     ]
    }
   ],
   "source": [
    "print(help(set.remove))"
   ]
  },
  {
   "cell_type": "code",
   "execution_count": null,
   "metadata": {},
   "outputs": [],
   "source": [
    "class stack(object):\n",
    "    items = []\n",
    "    \n",
    "    def add(self, item):\n",
    "        \n",
    "    \n",
    "    def pop(self):\n",
    "        \n",
    "    \n",
    "    def length(self):\n",
    "    "
   ]
  },
  {
   "cell_type": "code",
   "execution_count": 28,
   "metadata": {},
   "outputs": [
    {
     "name": "stdout",
     "output_type": "stream",
     "text": [
      "1\n",
      "3\n",
      "4\n",
      "6\n",
      "7\n",
      "8\n",
      "10\n",
      "13\n",
      "14\n",
      "size of BST: 9\n"
     ]
    }
   ],
   "source": [
    "class node(object):\n",
    "    def __init__(self, value):\n",
    "        self.value = value\n",
    "        self.left = None\n",
    "        self.right = None\n",
    "\n",
    "    def add(self, value):\n",
    "        if value < self.value:\n",
    "            if self.left:\n",
    "                self.left.add(value)\n",
    "            else:\n",
    "                self.left = node(value)\n",
    "        else:\n",
    "            if self.right:\n",
    "                self.right.add(value)\n",
    "            else:\n",
    "                self.right = node(value)        \n",
    "    \n",
    "    def sort(self):\n",
    "        if self.left: self.left.sort()\n",
    "        print(self.value)\n",
    "        if self.right: self.right.sort()\n",
    "        \n",
    "class BST(object):\n",
    "    root = None\n",
    "    length = 0\n",
    "    \n",
    "    def add(self, value):\n",
    "        if self.root:\n",
    "            self.root.add(value)\n",
    "        else:\n",
    "            self.root = node(value)\n",
    "        self.length+=1\n",
    "\n",
    "    def sort(self):\n",
    "        self.root.sort()\n",
    "    \n",
    "    def __len__(self):\n",
    "        return self.length\n",
    "            \n",
    "t = BST()\n",
    "for i in [8,3,10,1,6,14,4,7,13]:\n",
    "    t.add(i)\n",
    "t.sort()\n",
    "print(\"size of BST: %d\"%len(t))"
   ]
  },
  {
   "cell_type": "markdown",
   "metadata": {},
   "source": [
    "### 作业："
   ]
  },
  {
   "cell_type": "code",
   "execution_count": 16,
   "metadata": {},
   "outputs": [
    {
     "name": "stdout",
     "output_type": "stream",
     "text": [
      "0\n",
      "1\n",
      "2\n",
      "3\n",
      "4\n",
      "5\n",
      "6\n",
      "7\n",
      "8\n",
      "9\n"
     ]
    }
   ],
   "source": [
    "class Node(object):\n",
    "    def __init__(self, Value, Next=None):\n",
    "        self.Value = Value\n",
    "        self.Next = Next\n",
    "       \n",
    "class LinkedList(object):\n",
    "    head = None\n",
    "    tail = None\n",
    "    length = int\n",
    "    \n",
    "    def __len__(self):               # len(A)\n",
    "        \n",
    "    def __str__(self):               # str(A) \n",
    "    \n",
    "    def append(self, value):         # A.append(value)\n",
    "        \n",
    "    def pop(self):                   # A.pop()\n",
    "    \n",
    "#     def remove(self, value):         # A.remove(value)\n",
    "        \n",
    "#     def getByIndex(self, index):     # A[i]"
   ]
  },
  {
   "cell_type": "code",
   "execution_count": 29,
   "metadata": {},
   "outputs": [
    {
     "name": "stdout",
     "output_type": "stream",
     "text": [
      "[1, 2, 4]\n"
     ]
    }
   ],
   "source": [
    "print([1,2,4])"
   ]
  },
  {
   "cell_type": "code",
   "execution_count": 3,
   "metadata": {},
   "outputs": [],
   "source": [
    "class fuzzyNumber(object):\n",
    "    def __init__(self, a, b, c):\n",
    "        self.a = a\n",
    "        self.b = b\n",
    "        self.c = c\n",
    "        \n",
    "    def mean(self):\n",
    "        return (self.a+4*self.b+self.c)/6\n",
    "    \n",
    "    def variance(self):\n",
    "        return self.c-self.a\n",
    "    \n",
    "    def belong(self, x):\n",
    "        if x<=self.a or x>=self.c:\n",
    "            return 0\n",
    "        if x< self.b:\n",
    "            return (x-self.a)/(self.b-self.a)\n",
    "        return (self.c-x)/(self.c-self.b)\n",
    "    \n",
    "    def __add__(self, fn):\n",
    "        return fuzzyNumber(self.a+fn.a, self.b+fn.b, self.c+fn.c)\n",
    "        \n",
    "    def __eq__(self, fn):\n",
    "        if self.mean() == fn.mean() and self.variance() == fn.variance():\n",
    "            return True\n",
    "        return False\n",
    "        \n",
    "    def __lt__(self, fn):\n",
    "        if self.mean() < fn.mean():\n",
    "            return True\n",
    "        if self.variance() > fn.variance():\n",
    "            return True\n",
    "        return False  \n",
    "    \n",
    "    def __gt__(self, fn):\n",
    "        if self.mean() > fn.mean():\n",
    "            return True\n",
    "        if self.variance() < fn.variance():\n",
    "            return True\n",
    "        return False       \n",
    "    \n",
    "    def __str__(self):\n",
    "        return str((self.a, self.b, self.c))"
   ]
  },
  {
   "cell_type": "code",
   "execution_count": 16,
   "metadata": {},
   "outputs": [
    {
     "name": "stdout",
     "output_type": "stream",
     "text": [
      "(1, 2, 3) (3, 4, 5) (4, 6, 8)\n",
      "2.0 4.0 6.0\n",
      "True\n",
      "True\n"
     ]
    }
   ],
   "source": [
    "f1 = fuzzyNumber(1,2,3)\n",
    "f2 = fuzzyNumber(3,4,5)\n",
    "f = f1+f2\n",
    "print(f1,f2,f)\n",
    "print(f1.mean(),f2.mean(),f.mean())\n",
    "print(f<f2)\n",
    "print(f>f2)"
   ]
  },
  {
   "cell_type": "code",
   "execution_count": null,
   "metadata": {},
   "outputs": [],
   "source": []
  },
  {
   "cell_type": "code",
   "execution_count": null,
   "metadata": {},
   "outputs": [],
   "source": []
  },
  {
   "cell_type": "code",
   "execution_count": null,
   "metadata": {},
   "outputs": [],
   "source": []
  },
  {
   "cell_type": "code",
   "execution_count": null,
   "metadata": {},
   "outputs": [],
   "source": []
  },
  {
   "cell_type": "code",
   "execution_count": null,
   "metadata": {},
   "outputs": [],
   "source": []
  },
  {
   "cell_type": "code",
   "execution_count": null,
   "metadata": {},
   "outputs": [],
   "source": []
  },
  {
   "cell_type": "code",
   "execution_count": null,
   "metadata": {},
   "outputs": [],
   "source": []
  },
  {
   "cell_type": "code",
   "execution_count": null,
   "metadata": {},
   "outputs": [],
   "source": []
  },
  {
   "cell_type": "code",
   "execution_count": null,
   "metadata": {},
   "outputs": [],
   "source": []
  },
  {
   "cell_type": "code",
   "execution_count": null,
   "metadata": {},
   "outputs": [],
   "source": []
  }
 ],
 "metadata": {
  "kernelspec": {
   "display_name": "Python 3",
   "language": "python",
   "name": "python3"
  },
  "language_info": {
   "codemirror_mode": {
    "name": "ipython",
    "version": 3
   },
   "file_extension": ".py",
   "mimetype": "text/x-python",
   "name": "python",
   "nbconvert_exporter": "python",
   "pygments_lexer": "ipython3",
   "version": "3.6.2"
  }
 },
 "nbformat": 4,
 "nbformat_minor": 2
}
