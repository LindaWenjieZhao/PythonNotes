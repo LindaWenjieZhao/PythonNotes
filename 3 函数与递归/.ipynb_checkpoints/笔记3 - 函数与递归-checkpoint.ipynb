{
 "cells": [
  {
   "cell_type": "markdown",
   "metadata": {},
   "source": [
    "# 函数与递归\n",
    "\n",
    "*基本知识：Python中的函数用于对输入做若干操作（无返回值）或将输入通过计算得到一个返回值。函数存在的意义是对于代码中重复性强，功能明显的部分进行封装，以维持代码良好的可读性，模块化，及可维护性。其基本语法如下*\n",
    "\n",
    "```\n",
    "def function(params):\n",
    "    '''documents'''\n",
    "    # body\n",
    "    return\n",
    "```\n",
    "\n",
    "## 状态栈\n",
    "\n",
    "栈是一种先进后出（First-In-Last-Out, FILO）的数据结构（我们会在面向对象中尝试去写一个简单的栈，虽然Python的list已经能完成其功能），在计算机系统上，栈用来存储当前程序的运行状态，一个程序的状态栈由若干栈帧（frame）组成，每个帧中对应了一个被调用的函数，其中包含了被调用函数使用的局部变量，一些临时变量，和返回地址（指向函数结束后继续执行的指令）。栈中有效数据的边界称为栈顶，每当调用函数时，程序就会下移栈顶，并给被调用函数分配内存空间。python默认不在任何函数内的代码都属于`__MAIN__`函数，在执行程序时，`__MAIN__`会被首先压入栈执行，然后在`__MAIN__`中，程序会调用各种函数，只有将这些函数执行完，`__MAIN__`才会被执行完，退出栈。因此程序的运行是FILO的。\n",
    "\n",
    "比如以下代码，程序栈从开始，到结束分别经历了以下过程：\n",
    "\n",
    "| 事件 | 状态栈 |\n",
    "| --- | --- |\n",
    "| `__MAIN__` 开始 | [`__MAIN__`] |\n",
    "| `__MAIN__` 调用 `func1`  | [`__MAIN__` , `func1`] |\n",
    "| `func1` 调用 `func2`  | [`__MAIN__` , `func1` , `func2`] |\n",
    "| `func2` 结束 | [`__MAIN__` , `func1`] |\n",
    "| `func1` 调用 `print`  | [`__MAIN__` , `func1` , `print`] |\n",
    "| `print` 结束 | [`__MAIN__` , `func1`] |\n",
    "| `func1` 结束 | [`__MAIN__`] |\n",
    "| `__MAIN__` 结束 | [] |\n",
    "| 退出程序 | TERMINATE |"
   ]
  },
  {
   "cell_type": "code",
   "execution_count": 1,
   "metadata": {},
   "outputs": [
    {
     "name": "stdout",
     "output_type": "stream",
     "text": [
      "2 2\n"
     ]
    }
   ],
   "source": [
    "def func2():\n",
    "    x = 1\n",
    "    x += 1\n",
    "    return x\n",
    "\n",
    "def func1():\n",
    "    y = 2\n",
    "    x = func2()\n",
    "    print(x,y)\n",
    "\n",
    "func1()"
   ]
  },
  {
   "cell_type": "markdown",
   "metadata": {},
   "source": [
    "由于执行中的程序从本质看就是一串指令，因此，状态栈的存在可以帮助我们追踪程序的状态更新，比如当我们使用`func2`时犯了一个错误，这时，程序就会报错，告诉我们在某个语句的执行上出了问题，为了了解是哪个语句在什么环境下出现的问题，我们可以借用状态栈来追踪错误，比如以下代码，从开始到出错经历了以下过程\n",
    "\n",
    "| 事件 | 状态栈 |\n",
    "| --- | --- |\n",
    "| `__MAIN__` 开始 | [`__MAIN__`] |\n",
    "| `__MAIN__` 调用 `func1`  | [`__MAIN__` , `func1`] |\n",
    "| `func1` 调用 `func2`  | [`__MAIN__` , `func1` , `func2`] |\n",
    "| `func2` 报错 | [`__MAIN__` , `func1`, `func2`] |\n",
    "| 退出程序 | TERMINATE |\n",
    "\n",
    "因此在追踪（Traceback）时，Python会按照调用顺序，依次提示我们出错的语句位于哪个模块的哪个位置，比如一下代码，报错信息提示错误位于`__MAIN__`的第12行`func1()`，`func1`的第9行`func2()`，`func2`的第4行`raise Exception(\"Let's stop here\")`。当我们拿到报错信息时就可以根据给出的错误信息结合出错时的各函数的运行状态，推测出当前程序所出现的问题。合理利用错误提示信息和状态栈的追踪信息，我们可以解决绝大多数BUG。因此在实际操作中一定要善于利用报错信息DEBUG。"
   ]
  },
  {
   "cell_type": "code",
   "execution_count": 2,
   "metadata": {},
   "outputs": [
    {
     "ename": "Exception",
     "evalue": "Let's stop here",
     "output_type": "error",
     "traceback": [
      "\u001b[0;31m---------------------------------------------------------------------------\u001b[0m",
      "\u001b[0;31mException\u001b[0m                                 Traceback (most recent call last)",
      "\u001b[0;32m<ipython-input-2-e8836ab48c71>\u001b[0m in \u001b[0;36m<module>\u001b[0;34m()\u001b[0m\n\u001b[1;32m     10\u001b[0m     \u001b[0mprint\u001b[0m\u001b[0;34m(\u001b[0m\u001b[0mx\u001b[0m\u001b[0;34m,\u001b[0m\u001b[0my\u001b[0m\u001b[0;34m)\u001b[0m\u001b[0;34m\u001b[0m\u001b[0m\n\u001b[1;32m     11\u001b[0m \u001b[0;34m\u001b[0m\u001b[0m\n\u001b[0;32m---> 12\u001b[0;31m \u001b[0mfunc1\u001b[0m\u001b[0;34m(\u001b[0m\u001b[0;34m)\u001b[0m\u001b[0;34m\u001b[0m\u001b[0m\n\u001b[0m",
      "\u001b[0;32m<ipython-input-2-e8836ab48c71>\u001b[0m in \u001b[0;36mfunc1\u001b[0;34m()\u001b[0m\n\u001b[1;32m      7\u001b[0m \u001b[0;32mdef\u001b[0m \u001b[0mfunc1\u001b[0m\u001b[0;34m(\u001b[0m\u001b[0;34m)\u001b[0m\u001b[0;34m:\u001b[0m\u001b[0;34m\u001b[0m\u001b[0m\n\u001b[1;32m      8\u001b[0m     \u001b[0my\u001b[0m \u001b[0;34m=\u001b[0m \u001b[0;36m2\u001b[0m\u001b[0;34m\u001b[0m\u001b[0m\n\u001b[0;32m----> 9\u001b[0;31m     \u001b[0mx\u001b[0m \u001b[0;34m=\u001b[0m \u001b[0mfunc2\u001b[0m\u001b[0;34m(\u001b[0m\u001b[0;34m)\u001b[0m\u001b[0;34m\u001b[0m\u001b[0m\n\u001b[0m\u001b[1;32m     10\u001b[0m     \u001b[0mprint\u001b[0m\u001b[0;34m(\u001b[0m\u001b[0mx\u001b[0m\u001b[0;34m,\u001b[0m\u001b[0my\u001b[0m\u001b[0;34m)\u001b[0m\u001b[0;34m\u001b[0m\u001b[0m\n\u001b[1;32m     11\u001b[0m \u001b[0;34m\u001b[0m\u001b[0m\n",
      "\u001b[0;32m<ipython-input-2-e8836ab48c71>\u001b[0m in \u001b[0;36mfunc2\u001b[0;34m()\u001b[0m\n\u001b[1;32m      2\u001b[0m     \u001b[0mx\u001b[0m \u001b[0;34m=\u001b[0m \u001b[0;36m1\u001b[0m\u001b[0;34m\u001b[0m\u001b[0m\n\u001b[1;32m      3\u001b[0m     \u001b[0mx\u001b[0m \u001b[0;34m+=\u001b[0m \u001b[0;36m1\u001b[0m\u001b[0;34m\u001b[0m\u001b[0m\n\u001b[0;32m----> 4\u001b[0;31m     \u001b[0;32mraise\u001b[0m \u001b[0mException\u001b[0m\u001b[0;34m(\u001b[0m\u001b[0;34m\"Let's stop here\"\u001b[0m\u001b[0;34m)\u001b[0m\u001b[0;34m\u001b[0m\u001b[0m\n\u001b[0m\u001b[1;32m      5\u001b[0m     \u001b[0;32mreturn\u001b[0m \u001b[0mx\u001b[0m\u001b[0;34m\u001b[0m\u001b[0m\n\u001b[1;32m      6\u001b[0m \u001b[0;34m\u001b[0m\u001b[0m\n",
      "\u001b[0;31mException\u001b[0m: Let's stop here"
     ]
    }
   ],
   "source": [
    "def func2():\n",
    "    x = 1\n",
    "    x += 1\n",
    "    raise Exception(\"Let's stop here\")\n",
    "    return x\n",
    "\n",
    "def func1():\n",
    "    y = 2\n",
    "    x = func2()\n",
    "    print(x,y)\n",
    "\n",
    "func1()"
   ]
  },
  {
   "cell_type": "markdown",
   "metadata": {},
   "source": [
    "## 变量的作用范围\n",
    "\n",
    "上文说到每一个栈帧中都会存储一些该函数使用的数据，这样一些数据只能被这个函数调用，被称为**局部变量**；而相比之下，有另外一类变量，可以被所有函数访问到，这样的变量称为**全局变量**。局部变量被存放在被调用函数的帧中，如果函数正被执行，访问该变量将是安全的，如果函数被执行完，栈帧将会被退出，这时如果执行其他函数，该变量所存放的数据有可能会被其他函数改写，这时访问该变量就会产生风险。因此，为了数据的安全性，栈帧内的数据一般为该函数**私有**，因此作用范围是该函数内部。\n",
    "\n",
    "但考虑如下事实，只有所有函数执行完后`__MAIN__`才会被退出栈，因此只要程序还在运行，`__MAIN__`一定存在于栈中，这也就保证了主程序中变量不会被覆盖，因此虽然原则上栈内的数据一般为函数私有，但实际上，由于`__MAIN__`中的变量不会被覆盖，可以在实际操作中被任何函数访问的同时，不产生有效性问题，因此`__MAIN__`中变量也被称为全局变量。\n",
    "\n",
    "在解释一个变量的作用范围时通常会按照“局部>全局”的优先级解释，如果某个变量在函数中有被声明，则该变量则会被当作局部变量，反之，如果函数中没有声明，但在`__MAIN__`中有声明，则会被当作全局变量解释，如果既没有在函数中声明，也没在`__MAIN__`中声明则会引发错误，提示变量未被定义。"
   ]
  },
  {
   "cell_type": "code",
   "execution_count": 3,
   "metadata": {},
   "outputs": [
    {
     "name": "stdout",
     "output_type": "stream",
     "text": [
      "global x: x=1\n",
      "local  x: x=2\n",
      "global x: x=1\n",
      "name 'y' is not defined\n"
     ]
    }
   ],
   "source": [
    "def increment(x):\n",
    "    x+=1\n",
    "    print(\"local  x: x=%d\"%x)\n",
    "    \n",
    "x = 1\n",
    "print(\"global x: x=%d\"%x)\n",
    "increment(x)\n",
    "print(\"global x: x=%d\"%x)\n",
    "try:\n",
    "    print(y)\n",
    "except Exception as e:\n",
    "    print(e)"
   ]
  },
  {
   "cell_type": "markdown",
   "metadata": {},
   "source": [
    "所以基于以上理解，我们就可以发现以下代码为什么不能执行了：因为被调换的时`swap`中的局部变量，而非全局变量。"
   ]
  },
  {
   "cell_type": "code",
   "execution_count": 4,
   "metadata": {},
   "outputs": [
    {
     "name": "stdout",
     "output_type": "stream",
     "text": [
      "before swap(): x=1 y=2\n",
      "after swap():  x=1 y=2\n"
     ]
    }
   ],
   "source": [
    "def swap(x,y):\n",
    "    x,y = y,x\n",
    "\n",
    "x = 1; y = 2\n",
    "print(\"before swap(): x=%d y=%d\"%(x,y))\n",
    "swap(x,y)\n",
    "print(\"after swap():  x=%d y=%d\"%(x,y))"
   ]
  },
  {
   "cell_type": "markdown",
   "metadata": {},
   "source": [
    "**［练习］**为什么以下代码能对换两个list中对应元素？从中可以发现什么函数使用时的注意点？"
   ]
  },
  {
   "cell_type": "code",
   "execution_count": 6,
   "metadata": {},
   "outputs": [
    {
     "name": "stdout",
     "output_type": "stream",
     "text": [
      "before SWAP(): X=[1, 2, 3, 4] Y=[3, 4, 5, 6]\n",
      "after  SWAP(): X=[3, 4, 5, 6] Y=[1, 2, 3, 4]\n"
     ]
    }
   ],
   "source": [
    "def SWAP(X,Y):\n",
    "    if len(X)==len(Y):\n",
    "        for i in range(len(X)):\n",
    "            X[i],Y[i] = Y[i],X[i]\n",
    "    else:\n",
    "        raise Exception(\"sizes of X,Y don't match.\")\n",
    "\n",
    "X = [1,2,3,4]; Y = [3,4,5,6]\n",
    "print(\"before SWAP(): X=%s Y=%s\"%(str(X),str(Y)))\n",
    "SWAP(X,Y)\n",
    "print(\"after  SWAP(): X=%s Y=%s\"%(str(X),str(Y)))"
   ]
  },
  {
   "cell_type": "markdown",
   "metadata": {},
   "source": [
    "## 函数变量"
   ]
  },
  {
   "cell_type": "code",
   "execution_count": 8,
   "metadata": {},
   "outputs": [
    {
     "name": "stdout",
     "output_type": "stream",
     "text": [
      "1\n"
     ]
    },
    {
     "ename": "TypeError",
     "evalue": "'int' object is not callable",
     "output_type": "error",
     "traceback": [
      "\u001b[0;31m---------------------------------------------------------------------------\u001b[0m",
      "\u001b[0;31mTypeError\u001b[0m                                 Traceback (most recent call last)",
      "\u001b[0;32m<ipython-input-8-480c8c9a8608>\u001b[0m in \u001b[0;36m<module>\u001b[0;34m()\u001b[0m\n\u001b[1;32m      3\u001b[0m \u001b[0mprint\u001b[0m\u001b[0;34m(\u001b[0m\u001b[0mp\u001b[0m\u001b[0;34m(\u001b[0m\u001b[0;36m7\u001b[0m\u001b[0;34m)\u001b[0m\u001b[0;34m)\u001b[0m\u001b[0;34m\u001b[0m\u001b[0m\n\u001b[1;32m      4\u001b[0m \u001b[0mp\u001b[0m \u001b[0;34m=\u001b[0m \u001b[0;36m7\u001b[0m\u001b[0;34m\u001b[0m\u001b[0m\n\u001b[0;32m----> 5\u001b[0;31m \u001b[0mprint\u001b[0m\u001b[0;34m(\u001b[0m\u001b[0mp\u001b[0m\u001b[0;34m(\u001b[0m\u001b[0;36m7\u001b[0m\u001b[0;34m)\u001b[0m\u001b[0;34m)\u001b[0m\u001b[0;34m\u001b[0m\u001b[0m\n\u001b[0m",
      "\u001b[0;31mTypeError\u001b[0m: 'int' object is not callable"
     ]
    }
   ],
   "source": [
    "p = lambda x: x%3\n",
    "\n",
    "print(p(7))\n",
    "p = 7\n",
    "print(p(7))"
   ]
  },
  {
   "cell_type": "code",
   "execution_count": 9,
   "metadata": {},
   "outputs": [
    {
     "name": "stdout",
     "output_type": "stream",
     "text": [
      "0x1024d7b70\n",
      "0x1024d7f28\n",
      "list: 0.027888 sec\n",
      "set: 0.000785 sec\n"
     ]
    }
   ],
   "source": [
    "def in_list(N):\n",
    "    l = list(range(1000))\n",
    "    for i in range(N):\n",
    "        b = 100 in l\n",
    "        \n",
    "def in_set(N):\n",
    "    s = set(range(1000))\n",
    "    for i in range(N):\n",
    "        b = 100 in s\n",
    "\n",
    "def timer(f,N):\n",
    "    from time import clock\n",
    "    start = clock()\n",
    "    f(N)\n",
    "    end = clock()\n",
    "    return end-start\n",
    "\n",
    "print(hex(id(in_list)))\n",
    "print(hex(id(in_set)))\n",
    "print(\"list: %f sec\"%timer(in_list, 10000))\n",
    "print(\"set: %f sec\"%timer(in_set, 10000))"
   ]
  },
  {
   "cell_type": "markdown",
   "metadata": {},
   "source": [
    "## 递归\n",
    "\n",
    "> 递归（英语：Recursion），又译为递回，在数学与计算机科学中，是指在函数的定义中使用函数自身的方法。递归一词还较常用于描述以自相似方法重复事物的过程。例如，当两面镜子相互之间近似平行时，镜中嵌套的图像是以无限递归的形式出现的。也可以理解为自我复制的过程。（来自Wikipedia）\n",
    "\n"
   ]
  },
  {
   "cell_type": "code",
   "execution_count": null,
   "metadata": {},
   "outputs": [],
   "source": [
    "def fact(N):\n",
    "    if N!=1:\n",
    "        return N*fact(N-1)\n",
    "    else:\n",
    "        return 1\n",
    "\n",
    "print(fact(3))"
   ]
  },
  {
   "cell_type": "code",
   "execution_count": null,
   "metadata": {},
   "outputs": [],
   "source": [
    "def overflow():\n",
    "    x=1\n",
    "    overflow()\n",
    "\n",
    "print(overflow())"
   ]
  },
  {
   "cell_type": "markdown",
   "metadata": {},
   "source": [
    "**［练习］**汉诺塔问题："
   ]
  },
  {
   "cell_type": "markdown",
   "metadata": {},
   "source": [
    "**［练习］**试用递归生成斐波那契数列前10个数`1,1,2,3,5,8,13,21,34,55`，并求出第20个数。\n",
    "\n",
    "（*斐波那契数列前两个数是1，后面的数满足每个数都是前面两个数的和*）"
   ]
  },
  {
   "cell_type": "code",
   "execution_count": 10,
   "metadata": {},
   "outputs": [
    {
     "name": "stdout",
     "output_type": "stream",
     "text": [
      "[1, 1, 2, 3, 5, 8, 13, 21, 34, 55]\n",
      "6765\n"
     ]
    }
   ],
   "source": [
    "def fib(N):\n",
    "    if N == 1:\n",
    "        return 1\n",
    "    elif N == 2:\n",
    "        return 1\n",
    "    else:\n",
    "        return fab(N-1)+fab(N-2)\n",
    "\n",
    "print([fib(i) for i in range(1,11)])\n",
    "print(fib(20))"
   ]
  },
  {
   "cell_type": "code",
   "execution_count": 13,
   "metadata": {},
   "outputs": [],
   "source": [
    "def fib_iter(N):\n",
    "    x = 1; y = 1; t = 0\n",
    "    for i in range(2,N):\n",
    "        t = x+y\n",
    "        x=y; y =t\n",
    "    return t"
   ]
  },
  {
   "cell_type": "markdown",
   "metadata": {},
   "source": [
    "让我们比较一下这两者运行效率的差别吧："
   ]
  },
  {
   "cell_type": "code",
   "execution_count": 15,
   "metadata": {},
   "outputs": [
    {
     "data": {
      "image/png": "[encoded data removed]",
      "text/plain": [
       "<matplotlib.figure.Figure at 0x103ccc748>"
      ]
     },
     "metadata": {},
     "output_type": "display_data"
    }
   ],
   "source": [
    "from matplotlib import pyplot as plt\n",
    "myrange = range(2,35)\n",
    "recursion = [timer(fib, i) for i in myrange]\n",
    "iteration = [timer(fib_iter, i) for i in myrange]\n",
    "\n",
    "plt.plot(myrange, recursion, label=\"recursion\")\n",
    "plt.plot(myrange, iteration, label=\"iteration\")\n",
    "plt.legend(loc='best')\n",
    "plt.xlabel(\"N-th Fibonacci\")\n",
    "plt.ylabel(\"runtime(sec)\")\n",
    "plt.show()"
   ]
  },
  {
   "cell_type": "markdown",
   "metadata": {},
   "source": [
    "我们从上图可以发现，用递归计算的效率在N比较小时还尚可接受，但随着N越来越大，其运行所需的时间也会越来越长，而且其增长级远远超过了循环的增长级。我们可以通过代码时间复杂度进行分析可以大致对这个表现差异进行解释：\n",
    "\n",
    "对于循环解法，每一个数都是通过上一个数生成的，需要常数时间$O(1)$，因而生成第$N$个数的时间为线性复杂度$O(N)$；而对于递归解法，由于计算每个数都要利用递归计算前两个数，可以近似认为运行时间翻倍，因此生成第$N$个数的时间近似为指数复杂度$O(2^N)$。显然后一个算法的复杂度远高于前一个，因此，在计算$N$比较大的斐波那契数时，递归效率就远远没有循环快。"
   ]
  },
  {
   "cell_type": "code",
   "execution_count": null,
   "metadata": {},
   "outputs": [],
   "source": []
  }
 ],
 "metadata": {
  "kernelspec": {
   "display_name": "Python 3",
   "language": "python",
   "name": "python3"
  },
  "language_info": {
   "codemirror_mode": {
    "name": "ipython",
    "version": 3
   },
   "file_extension": ".py",
   "mimetype": "text/x-python",
   "name": "python",
   "nbconvert_exporter": "python",
   "pygments_lexer": "ipython3",
   "version": "3.6.2"
  }
 },
 "nbformat": 4,
 "nbformat_minor": 2
}
